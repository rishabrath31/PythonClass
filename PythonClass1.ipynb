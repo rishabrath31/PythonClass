{
  "nbformat": 4,
  "nbformat_minor": 0,
  "metadata": {
    "colab": {
      "name": "PythonClass1.ipynb",
      "provenance": [],
      "collapsed_sections": [],
      "authorship_tag": "ABX9TyMhUCfs6VGoGjWYKhnO1Jo9",
      "include_colab_link": true
    },
    "kernelspec": {
      "name": "python3",
      "display_name": "Python 3"
    },
    "language_info": {
      "name": "python"
    }
  },
  "cells": [
    {
      "cell_type": "markdown",
      "metadata": {
        "id": "view-in-github",
        "colab_type": "text"
      },
      "source": [
        "<a href=\"https://colab.research.google.com/github/rishabrath31/PythonClass/blob/main/PythonClass1.ipynb\" target=\"_parent\"><img src=\"https://colab.research.google.com/assets/colab-badge.svg\" alt=\"Open In Colab\"/></a>"
      ]
    },
    {
      "cell_type": "code",
      "metadata": {
        "colab": {
          "base_uri": "https://localhost:8080/"
        },
        "id": "eCpMNI55J7Ia",
        "outputId": "e3489978-ec59-4a28-f9e9-52c3321c6b29"
      },
      "source": [
        "marks = int(input(\"Enter the marks : \"))\n",
        "grade = ''\n",
        "if marks > 75:\n",
        "  grade='O'\n",
        "elif marks > 60 and marks <=75:\n",
        "    grade = 'A'\n",
        "elif marks > 50 and marks <=60:\n",
        "    grade = 'B'\n",
        "elif marks > 40 and marks <= 50:\n",
        "   grade= 'C'\n",
        "else:\n",
        "   grade = 'D'\n",
        "print(\"GRADE = \",grade) "
      ],
      "execution_count": 4,
      "outputs": [
        {
          "output_type": "stream",
          "name": "stdout",
          "text": [
            "Enter the marks : 60\n",
            "GRADE =  B\n"
          ]
        }
      ]
    },
    {
      "cell_type": "code",
      "metadata": {
        "colab": {
          "base_uri": "https://localhost:8080/"
        },
        "id": "c_OP8oh1LtZB",
        "outputId": "fe43647d-8a74-490b-a445-51df836248fe"
      },
      "source": [
        "val = 'Hello'\n",
        "print(val)\n",
        "val = 100\n",
        "print(val)\n",
        "val= 12.2\n",
        "print(val)"
      ],
      "execution_count": 5,
      "outputs": [
        {
          "output_type": "stream",
          "name": "stdout",
          "text": [
            "Hello\n",
            "100\n",
            "12.2\n"
          ]
        }
      ]
    },
    {
      "cell_type": "code",
      "metadata": {
        "colab": {
          "base_uri": "https://localhost:8080/"
        },
        "id": "51xMUslPMKRo",
        "outputId": "7536a5ce-89ce-4d37-b0c0-51d5f5c340bf"
      },
      "source": [
        "num = 7\n",
        "amt = 123.4\n",
        "code = 'A'\n",
        "population_of_India = 1000000000000\n",
        "msg = \"Hi\"\n",
        "\n",
        "print(\"Num = \"+str(num))\n",
        "print(\"\\nAMT = \"+str(amt))\n",
        "print(\"\\nCODE = \"+str(code))\n",
        "print(\"\\nPOPLUPATION OF INDIA\"+str(population_of_India))\n",
        "print(\"\\nMessage = \"+str(msg))\n"
      ],
      "execution_count": 7,
      "outputs": [
        {
          "output_type": "stream",
          "name": "stdout",
          "text": [
            "Num = 7\n",
            "\n",
            "AMT = 123.4\n",
            "\n",
            "CODE = A\n",
            "\n",
            "POPLUPATION OF INDIA1000000000000\n",
            "\n",
            "Message = Hi\n"
          ]
        }
      ]
    },
    {
      "cell_type": "code",
      "metadata": {
        "colab": {
          "base_uri": "https://localhost:8080/"
        },
        "id": "R-GANM2gM_eW",
        "outputId": "53a51ee3-a3d2-4773-de1b-63168d976a16"
      },
      "source": [
        "s1=\"Good\"\n",
        "s2=\"Morning\"\n",
        "s1 +=s2\n",
        "print(s1)"
      ],
      "execution_count": 8,
      "outputs": [
        {
          "output_type": "stream",
          "name": "stdout",
          "text": [
            "GoodMorning\n"
          ]
        }
      ]
    },
    {
      "cell_type": "code",
      "metadata": {
        "colab": {
          "base_uri": "https://localhost:8080/"
        },
        "id": "f2cJTbYnNe8J",
        "outputId": "c6c5dd3d-34d3-4bd9-8784-d9e334f9a1fd"
      },
      "source": [
        "s = \"Hello\"\n",
        "print(s + '4')\n",
        "print(s * 5)\n"
      ],
      "execution_count": 9,
      "outputs": [
        {
          "output_type": "stream",
          "name": "stdout",
          "text": [
            "Hello4\n",
            "HelloHelloHelloHelloHello\n"
          ]
        }
      ]
    },
    {
      "cell_type": "code",
      "metadata": {
        "colab": {
          "base_uri": "https://localhost:8080/"
        },
        "id": "-1GYEAVUN3Rr",
        "outputId": "f4d8a6f5-0ac0-4c21-a729-ff624557d546"
      },
      "source": [
        "str = 'Python is Easy'\n",
        "print(s)\n",
        "print(s[0])\n",
        "print(s[3:9])\n",
        "print(s[4:])\n",
        "print(s[-1])\n",
        "print(s[:5])\n",
        "print(s * 2)\n",
        "print(s + \"ISN<T It?\")"
      ],
      "execution_count": 10,
      "outputs": [
        {
          "output_type": "stream",
          "name": "stdout",
          "text": [
            "Hello\n",
            "H\n",
            "lo\n",
            "o\n",
            "o\n",
            "Hello\n",
            "HelloHello\n",
            "HelloISN<T It?\n"
          ]
        }
      ]
    },
    {
      "cell_type": "code",
      "metadata": {
        "colab": {
          "base_uri": "https://localhost:8080/"
        },
        "id": "3mYJD9N6OVgN",
        "outputId": "e9758c57-c679-40eb-e1b1-021823f1ab0c"
      },
      "source": [
        "Dict = {\"ITEM\" : \"CHOCOLATE\", \"Price\": 100}\n",
        "print(Dict[\"ITEM\"])\n",
        "print(Dict[\"Price\"])"
      ],
      "execution_count": 12,
      "outputs": [
        {
          "output_type": "stream",
          "name": "stdout",
          "text": [
            "CHOCOLATE\n",
            "100\n"
          ]
        }
      ]
    },
    {
      "cell_type": "code",
      "metadata": {
        "colab": {
          "base_uri": "https://localhost:8080/"
        },
        "id": "fnWkvPDCOv-P",
        "outputId": "7827d557-7ec6-43fc-c091-50397effb710"
      },
      "source": [
        "x = input(\"Enter The First Number:\")\n",
        "y = input(\"Enter the Second Number:\")\n",
        "print(x+y)"
      ],
      "execution_count": 13,
      "outputs": [
        {
          "output_type": "stream",
          "name": "stdout",
          "text": [
            "Enter The First Number:2\n",
            "Enter the Second Number:3\n",
            "23\n"
          ]
        }
      ]
    },
    {
      "cell_type": "code",
      "metadata": {
        "colab": {
          "base_uri": "https://localhost:8080/"
        },
        "id": "uiHeeVctPB4Y",
        "outputId": "175331a7-3157-4ae3-b904-b48f8b1ed3bb"
      },
      "source": [
        "x = int(input(\"Enter The First Number:\"))\n",
        "y = int(input(\"Enter the Second Number:\"))\n",
        "print(x+y)"
      ],
      "execution_count": 14,
      "outputs": [
        {
          "output_type": "stream",
          "name": "stdout",
          "text": [
            "Enter The First Number:2\n",
            "Enter the Second Number:3\n",
            "5\n"
          ]
        }
      ]
    },
    {
      "cell_type": "code",
      "metadata": {
        "colab": {
          "base_uri": "https://localhost:8080/"
        },
        "id": "BofUyCj3PQoM",
        "outputId": "42574bf4-dc95-46ef-fb9b-257f40549681"
      },
      "source": [
        "int(2.90)\n",
        "round(2.90)"
      ],
      "execution_count": 15,
      "outputs": [
        {
          "output_type": "execute_result",
          "data": {
            "text/plain": [
              "3"
            ]
          },
          "metadata": {},
          "execution_count": 15
        }
      ]
    },
    {
      "cell_type": "code",
      "metadata": {
        "colab": {
          "base_uri": "https://localhost:8080/"
        },
        "id": "XxWskPCDPXoQ",
        "outputId": "69f5fe33-9bff-4652-be5b-aa2973424ac5"
      },
      "source": [
        "fah = float(input(\"Enter The Tempreture in fahrenheit : \"))\n",
        "cel = (0.56)*(fah-32)\n",
        "print(\"Tempreture in degree Celsius= \",cel)"
      ],
      "execution_count": 16,
      "outputs": [
        {
          "output_type": "stream",
          "name": "stdout",
          "text": [
            "Enter The Tempreture in fahrenheit : 233\n",
            "Tempreture in degree Celsius=  112.56000000000002\n"
          ]
        }
      ]
    },
    {
      "cell_type": "code",
      "metadata": {
        "id": "D_2CWzaKP451"
      },
      "source": [
        ""
      ],
      "execution_count": null,
      "outputs": []
    }
  ]
}