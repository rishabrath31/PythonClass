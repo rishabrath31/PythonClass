{
  "nbformat": 4,
  "nbformat_minor": 0,
  "metadata": {
    "colab": {
      "name": "PythonclassP9.ipynb",
      "provenance": [],
      "collapsed_sections": [],
      "authorship_tag": "ABX9TyPqS8Chpo94euZCVX93MU55",
      "include_colab_link": true
    },
    "kernelspec": {
      "name": "python3",
      "display_name": "Python 3"
    },
    "language_info": {
      "name": "python"
    }
  },
  "cells": [
    {
      "cell_type": "markdown",
      "metadata": {
        "id": "view-in-github",
        "colab_type": "text"
      },
      "source": [
        "<a href=\"https://colab.research.google.com/github/rishabrath31/PythonClass/blob/main/PythonclassP9.ipynb\" target=\"_parent\"><img src=\"https://colab.research.google.com/assets/colab-badge.svg\" alt=\"Open In Colab\"/></a>"
      ]
    },
    {
      "cell_type": "code",
      "metadata": {
        "colab": {
          "base_uri": "https://localhost:8080/"
        },
        "id": "jzF-Wc0jI61w",
        "outputId": "274c53ec-be43-4b12-b53b-db7fdab50475"
      },
      "source": [
        "for i in range (1,6):\n",
        "  print(\"Pass\",i,\"- \",end=' ')\n",
        "  for j in range(1,6):\n",
        "    print(j,end=' ')\n",
        "  print()"
      ],
      "execution_count": 2,
      "outputs": [
        {
          "output_type": "stream",
          "name": "stdout",
          "text": [
            "Pass 1 -  1 2 3 4 5 \n",
            "Pass 2 -  1 2 3 4 5 \n",
            "Pass 3 -  1 2 3 4 5 \n",
            "Pass 4 -  1 2 3 4 5 \n",
            "Pass 5 -  1 2 3 4 5 \n"
          ]
        }
      ]
    },
    {
      "cell_type": "code",
      "metadata": {
        "colab": {
          "base_uri": "https://localhost:8080/"
        },
        "id": "7A9hwkXQJhuI",
        "outputId": "389b083f-daf1-47b3-8817-b72cd31e6b86"
      },
      "source": [
        "for i in range(5):\n",
        "  print()\n",
        "  for j in range(5):\n",
        "    print(\"*\",end=\" \")"
      ],
      "execution_count": 3,
      "outputs": [
        {
          "output_type": "stream",
          "name": "stdout",
          "text": [
            "\n",
            "* * * * * \n",
            "* * * * * \n",
            "* * * * * \n",
            "* * * * * \n",
            "* * * * * "
          ]
        }
      ]
    },
    {
      "cell_type": "code",
      "metadata": {
        "colab": {
          "base_uri": "https://localhost:8080/"
        },
        "id": "o9wFI3aoJwRT",
        "outputId": "836f2da2-31e4-44b2-f6d8-51bbbc914252"
      },
      "source": [
        "for i in range(1,6):\n",
        "  print()\n",
        "  for j in range(i):\n",
        "    print(\"*\",end=' ')"
      ],
      "execution_count": 4,
      "outputs": [
        {
          "output_type": "stream",
          "name": "stdout",
          "text": [
            "\n",
            "* \n",
            "* * \n",
            "* * * \n",
            "* * * * \n",
            "* * * * * "
          ]
        }
      ]
    },
    {
      "cell_type": "code",
      "metadata": {
        "colab": {
          "base_uri": "https://localhost:8080/"
        },
        "id": "Ea4pY6wFJ9oW",
        "outputId": "4ff71914-f8c3-4021-dd94-d6bbd3f6e981"
      },
      "source": [
        "for i in range(1,6):\n",
        "  print()\n",
        "  for j in range(1,i+1):\n",
        "    print(j, end= ' ')"
      ],
      "execution_count": 5,
      "outputs": [
        {
          "output_type": "stream",
          "name": "stdout",
          "text": [
            "\n",
            "1 \n",
            "1 2 \n",
            "1 2 3 \n",
            "1 2 3 4 \n",
            "1 2 3 4 5 "
          ]
        }
      ]
    },
    {
      "cell_type": "code",
      "metadata": {
        "colab": {
          "base_uri": "https://localhost:8080/"
        },
        "id": "joG85bvZKPAN",
        "outputId": "bf2ec0d9-f10d-4c22-bd20-3e674b9fa819"
      },
      "source": [
        "for i in range(1,6):\n",
        "  print()\n",
        "  for j in range(i):\n",
        "    print(i,end=' ')"
      ],
      "execution_count": 6,
      "outputs": [
        {
          "output_type": "stream",
          "name": "stdout",
          "text": [
            "\n",
            "1 \n",
            "2 2 \n",
            "3 3 3 \n",
            "4 4 4 4 \n",
            "5 5 5 5 5 "
          ]
        }
      ]
    },
    {
      "cell_type": "code",
      "metadata": {
        "colab": {
          "base_uri": "https://localhost:8080/"
        },
        "id": "8eeQn5dJKnFi",
        "outputId": "d29290ff-f042-4383-c874-e2ac434aeed8"
      },
      "source": [
        "count = 0\n",
        "for i in range(1,5):\n",
        "  print()\n",
        "  for j in range(1,i+1):\n",
        "    print(count,end=' ')\n",
        "    count = count+1"
      ],
      "execution_count": 8,
      "outputs": [
        {
          "output_type": "stream",
          "name": "stdout",
          "text": [
            "\n",
            "0 \n",
            "1 2 \n",
            "3 4 5 \n",
            "6 7 8 9 "
          ]
        }
      ]
    },
    {
      "cell_type": "code",
      "metadata": {
        "colab": {
          "base_uri": "https://localhost:8080/"
        },
        "id": "fUsvuZMIMwB6",
        "outputId": "9c68a7b2-6daa-4cbd-e22d-629b844de967"
      },
      "source": [
        "for i in range(1,11):\n",
        "  if(i==5):\n",
        "    continue\n",
        "  print(i,end=\" \")\n",
        "print(\"\\n Done\")"
      ],
      "execution_count": 11,
      "outputs": [
        {
          "output_type": "stream",
          "name": "stdout",
          "text": [
            "1 2 3 4 6 7 8 9 10 \n",
            " Done\n"
          ]
        }
      ]
    },
    {
      "cell_type": "code",
      "metadata": {
        "colab": {
          "base_uri": "https://localhost:8080/"
        },
        "id": "-JbRm9iRNgpA",
        "outputId": "84f4947f-9269-4e15-9e3f-b0fd00ef028f"
      },
      "source": [
        "def diff(x,y):\n",
        "  return x-y\n",
        "a = 10\n",
        "b = 20\n",
        "operation = diff\n",
        "print(operation(a,b))"
      ],
      "execution_count": 12,
      "outputs": [
        {
          "output_type": "stream",
          "name": "stdout",
          "text": [
            "-10\n"
          ]
        }
      ]
    },
    {
      "cell_type": "code",
      "metadata": {
        "colab": {
          "base_uri": "https://localhost:8080/"
        },
        "id": "1NzWGHjtNz_D",
        "outputId": "f6a1c699-44ab-451e-fcba-4c4174ecbe81"
      },
      "source": [
        "def func(i,j):\n",
        "  print(\"Hello World\", i , j)\n",
        "func(5,6)"
      ],
      "execution_count": 15,
      "outputs": [
        {
          "output_type": "stream",
          "name": "stdout",
          "text": [
            "Hello World 5 6\n"
          ]
        }
      ]
    },
    {
      "cell_type": "code",
      "metadata": {
        "colab": {
          "base_uri": "https://localhost:8080/"
        },
        "id": "n_2hc0fzOQF0",
        "outputId": "12e3f4a8-665e-40ea-ac34-bd91929e8200"
      },
      "source": [
        "def func(i):\n",
        "  print(\"Hello World\", i)\n",
        "func(5+2*3)"
      ],
      "execution_count": 16,
      "outputs": [
        {
          "output_type": "stream",
          "name": "stdout",
          "text": [
            "Hello World 11\n"
          ]
        }
      ]
    }
  ]
}