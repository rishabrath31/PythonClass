{
  "nbformat": 4,
  "nbformat_minor": 0,
  "metadata": {
    "colab": {
      "name": "PythonclassP5.ipynb",
      "provenance": [],
      "collapsed_sections": [],
      "authorship_tag": "ABX9TyOGgJxjPszZnPbuzBsHOZgz",
      "include_colab_link": true
    },
    "kernelspec": {
      "name": "python3",
      "display_name": "Python 3"
    },
    "language_info": {
      "name": "python"
    }
  },
  "cells": [
    {
      "cell_type": "markdown",
      "metadata": {
        "id": "view-in-github",
        "colab_type": "text"
      },
      "source": [
        "<a href=\"https://colab.research.google.com/github/rishabrath31/PythonClass/blob/main/PythonclassP5.ipynb\" target=\"_parent\"><img src=\"https://colab.research.google.com/assets/colab-badge.svg\" alt=\"Open In Colab\"/></a>"
      ]
    },
    {
      "cell_type": "code",
      "metadata": {
        "colab": {
          "base_uri": "https://localhost:8080/"
        },
        "id": "JiKbshmRVHTP",
        "outputId": "31dd8621-622b-4179-922c-0df4709ed8af"
      },
      "source": [
        "year = int(input(\"Enter The Year : \"))\n",
        "if((year%4==0 and year%100!=0) or (year%400==0)):\n",
        " print(\"Leap Year\")\n",
        "else:\n",
        "  print(\"Not a Leap Year\")"
      ],
      "execution_count": 2,
      "outputs": [
        {
          "output_type": "stream",
          "name": "stdout",
          "text": [
            "Enter The Year : 2005\n",
            "Not a Leap Year\n"
          ]
        }
      ]
    },
    {
      "cell_type": "code",
      "metadata": {
        "colab": {
          "base_uri": "https://localhost:8080/"
        },
        "id": "5Q0M5mGlVtud",
        "outputId": "256e8bc9-ca10-452a-f2a5-f9879f75e382"
      },
      "source": [
        "num = int(input(\"Enter any number from 0-30: \"))\n",
        "if(num>=0 and num<=10):\n",
        "  print(\"It is in the range 1-10\")\n",
        "if(num>=10 and num<=20):\n",
        "  print(\"It is in the range 10-20\")\n",
        "if(num>=20 and num<=30):\n",
        "  print(\"It is in the range 20-30\")"
      ],
      "execution_count": 3,
      "outputs": [
        {
          "output_type": "stream",
          "name": "stdout",
          "text": [
            "Enter any number from 0-30: 4\n",
            "It is in the range 1-10\n"
          ]
        }
      ]
    },
    {
      "cell_type": "code",
      "metadata": {
        "colab": {
          "base_uri": "https://localhost:8080/"
        },
        "id": "UR5US1_8WT7G",
        "outputId": "f70df089-1904-4a86-c490-0a42af90e537"
      },
      "source": [
        "num = int(input(\"Enter any number : \"))\n",
        "if(num==0):\n",
        "  print(\"The value is equal to zero: \")\n",
        "elif(num>0):\n",
        "  print(\"The number is positive\")\n",
        "else:\n",
        "  print(\"The number is negative\")"
      ],
      "execution_count": 4,
      "outputs": [
        {
          "output_type": "stream",
          "name": "stdout",
          "text": [
            "Enter any number : 3\n",
            "The number is positive\n"
          ]
        }
      ]
    },
    {
      "cell_type": "code",
      "metadata": {
        "colab": {
          "base_uri": "https://localhost:8080/"
        },
        "id": "OMODxUNPWwQX",
        "outputId": "ae91f14c-086b-479b-f1ad-2fb13e8d307c"
      },
      "source": [
        "ch = input(\"Enter Any Character: \")\n",
        "if(ch==\"A\" or ch==\"E\" or ch==\"I\" or ch==\"O\" or ch==\"U\"):\n",
        "  print(ch, \"is Vowel\")\n",
        "elif(ch==\"a\" or ch==\"e\" or ch==\"i\" or ch==\"o\" or ch==\"u\"):\n",
        "  print(ch,\"is vowel\")\n",
        "else:\n",
        "  print(ch,\"is not a VOWEL\")"
      ],
      "execution_count": 5,
      "outputs": [
        {
          "output_type": "stream",
          "name": "stdout",
          "text": [
            "Enter Any Character: w\n",
            "w is not a VOWEL\n"
          ]
        }
      ]
    },
    {
      "cell_type": "code",
      "metadata": {
        "colab": {
          "base_uri": "https://localhost:8080/"
        },
        "id": "HgDA_5XqXZ2e",
        "outputId": "89295df5-c8cc-406f-84b1-4f683399ea9f"
      },
      "source": [
        "num1 = int(input(\"Enter the First Number: \"))\n",
        "num2 = int(input(\"Enter the Second Number: \"))\n",
        "num3 = int(input(\"Enter the Third Number: \"))\n",
        "if(num1>num2):\n",
        "  if(num1>num3):\n",
        "    print(num1,\"is greater than\",num2,\"and\",num3)\n",
        "  else:\n",
        "    print(num3,\"is greater than\",num1,\"and\",num2)\n",
        "elif(num2>num3):\n",
        "  print(num2,\"is greater than\",num1,\"and\",num3)\n",
        "else:\n",
        "  print(\"The three number are equal\") "
      ],
      "execution_count": 7,
      "outputs": [
        {
          "output_type": "stream",
          "name": "stdout",
          "text": [
            "Enter the First Number: 13\n",
            "Enter the Second Number: 43\n",
            "Enter the Third Number: 25\n",
            "43 is greater than 13 and 25\n"
          ]
        }
      ]
    },
    {
      "cell_type": "code",
      "metadata": {
        "colab": {
          "base_uri": "https://localhost:8080/"
        },
        "id": "8a1rrd_MYhnl",
        "outputId": "f3ab6b01-48bd-4246-8ef4-d37fe45b52f8"
      },
      "source": [
        "num =int(input(\"Enter any number from 1-7:\"))\n",
        "if(num==1):print(\"Sunday\")\n",
        "elif(num==2):print(\"Monday\")\n",
        "elif(num==3):print(\"Tuesday\")\n",
        "elif(num==4):print(\"Wednesday\")\n",
        "elif(num==5):print(\"Thrusday\")\n",
        "elif(num==6):print(\"Friday\")\n",
        "elif(num==7):print(\"Saturday\")\n",
        "else:\n",
        "  print(\"Wrong Choice\")"
      ],
      "execution_count": 8,
      "outputs": [
        {
          "output_type": "stream",
          "name": "stdout",
          "text": [
            "Enter any number from 1-7:8\n",
            "Wrong Choice\n"
          ]
        }
      ]
    },
    {
      "cell_type": "code",
      "metadata": {
        "colab": {
          "base_uri": "https://localhost:8080/"
        },
        "id": "6cPPAiLgZPJk",
        "outputId": "612dc19c-3399-4bbf-e778-7414f0d1c9b0"
      },
      "source": [
        "i = 1\n",
        "while(i<=20):\n",
        "  print(\"*\\n\",end=\"\")\n",
        "  i=i+1\n"
      ],
      "execution_count": 10,
      "outputs": [
        {
          "output_type": "stream",
          "name": "stdout",
          "text": [
            "*\n",
            "*\n",
            "*\n",
            "*\n",
            "*\n",
            "*\n",
            "*\n",
            "*\n",
            "*\n",
            "*\n",
            "*\n",
            "*\n",
            "*\n",
            "*\n",
            "*\n",
            "*\n",
            "*\n",
            "*\n",
            "*\n",
            "*\n"
          ]
        }
      ]
    },
    {
      "cell_type": "code",
      "metadata": {
        "colab": {
          "base_uri": "https://localhost:8080/"
        },
        "id": "Y9ITLv-gZuBU",
        "outputId": "fcfafc61-cee8-4c74-a3dd-357ef1fd4363"
      },
      "source": [
        "m = int(input(\"Enter the value of m : \"))\n",
        "n = int(input(\"Enter the value of n : \"))\n",
        "s = 0\n",
        "while(m<=n):9\n",
        "  s=s+m\n",
        "  m=m+1\n",
        "print(\"SUM = \",s)"
      ],
      "execution_count": 14,
      "outputs": [
        {
          "output_type": "stream",
          "name": "stdout",
          "text": [
            "Enter the value of m : 3\n",
            "Enter the value of n : 9\n",
            "SUM =  42\n"
          ]
        }
      ]
    },
    {
      "cell_type": "code",
      "metadata": {
        "colab": {
          "base_uri": "https://localhost:8080/"
        },
        "id": "W5d4cyfdaaH0",
        "outputId": "be336e72-af55-4e6e-c432-2d1e1ec67907"
      },
      "source": [
        "i = 0\n",
        "while(i<=10):\n",
        " print(i ,end= \"\\t\")\n",
        " i=i+1"
      ],
      "execution_count": 19,
      "outputs": [
        {
          "output_type": "stream",
          "name": "stdout",
          "text": [
            "0\t1\t2\t3\t4\t5\t6\t7\t8\t9\t10\t"
          ]
        }
      ]
    },
    {
      "cell_type": "code",
      "metadata": {
        "colab": {
          "base_uri": "https://localhost:8080/"
        },
        "id": "fjXWqVoHax5z",
        "outputId": "25e9b7c4-d602-48b7-bdb4-6971a8e3f1c0"
      },
      "source": [
        "n= int(input(\"Enter the number :\" ))\n",
        "s = 0\n",
        "num = n\n",
        "while(n>0):\n",
        " r = n%10\n",
        " s = s+(r**3)\n",
        " n = n/10\n",
        "if(s==num):\n",
        "  print(\"The number is armstrong\")\n",
        "else:\n",
        "  print(num,\"The number is not Armstrong\")"
      ],
      "execution_count": 21,
      "outputs": [
        {
          "output_type": "stream",
          "name": "stdout",
          "text": [
            "Enter the number :432\n",
            "432 The number is not Armstrong\n"
          ]
        }
      ]
    }
  ]
}