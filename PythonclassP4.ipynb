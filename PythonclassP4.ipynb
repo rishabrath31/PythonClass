{
  "nbformat": 4,
  "nbformat_minor": 0,
  "metadata": {
    "colab": {
      "name": "PythonclassP4.ipynb",
      "provenance": [],
      "collapsed_sections": [],
      "authorship_tag": "ABX9TyNwYx63oK+gIUy4htup62sZ",
      "include_colab_link": true
    },
    "kernelspec": {
      "name": "python3",
      "display_name": "Python 3"
    },
    "language_info": {
      "name": "python"
    }
  },
  "cells": [
    {
      "cell_type": "markdown",
      "metadata": {
        "id": "view-in-github",
        "colab_type": "text"
      },
      "source": [
        "<a href=\"https://colab.research.google.com/github/rishabrath31/PythonClass/blob/main/PythonclassP4.ipynb\" target=\"_parent\"><img src=\"https://colab.research.google.com/assets/colab-badge.svg\" alt=\"Open In Colab\"/></a>"
      ]
    },
    {
      "cell_type": "code",
      "metadata": {
        "colab": {
          "base_uri": "https://localhost:8080/"
        },
        "id": "_aHFVjkQr5PK",
        "outputId": "cf647ec8-9f97-4da9-8c28-317ff1bf9b74"
      },
      "source": [
        "x = 10\n",
        "if(x>0):\n",
        "     x=x+1\n",
        "print(x) "
      ],
      "execution_count": 8,
      "outputs": [
        {
          "output_type": "stream",
          "name": "stdout",
          "text": [
            "11\n"
          ]
        }
      ]
    },
    {
      "cell_type": "code",
      "metadata": {
        "colab": {
          "base_uri": "https://localhost:8080/"
        },
        "id": "7ExB8nN_sqU5",
        "outputId": "1959eed2-f8bc-4709-84d7-5a41369e3656"
      },
      "source": [
        "age = int(input(\"Enter The Age : \"))\n",
        "if(age>18):\n",
        "  print(\"You are eligible to vote\")"
      ],
      "execution_count": 9,
      "outputs": [
        {
          "output_type": "stream",
          "name": "stdout",
          "text": [
            "Enter The Age : 20\n",
            "You are eligible to vote\n"
          ]
        }
      ]
    },
    {
      "cell_type": "code",
      "metadata": {
        "colab": {
          "base_uri": "https://localhost:8080/"
        },
        "id": "O8ygMEovs9Ao",
        "outputId": "1356db48-2dc2-4c78-8e8c-3fb1f80f8b36"
      },
      "source": [
        "char = input(\"Press any key :\")\n",
        "if(char.isalpha()):\n",
        "  print(\"The user has entered a character\")\n",
        "if(char.isdigit()):\n",
        "  print(\"The user has entered a digit\")\n",
        "if(char.isspace()):\n",
        "  print(\"Space\")\n"
      ],
      "execution_count": 10,
      "outputs": [
        {
          "output_type": "stream",
          "name": "stdout",
          "text": [
            "Press any key :7\n",
            "The user has entered a digit\n"
          ]
        }
      ]
    },
    {
      "cell_type": "code",
      "metadata": {
        "colab": {
          "base_uri": "https://localhost:8080/"
        },
        "id": "HcGwDW87tlg4",
        "outputId": "11aa1eac-4111-41e1-ab0f-d731ec3165ae"
      },
      "source": [
        "age = int(input(\"Enter the age : \"))\n",
        "if(age>=18):\n",
        "  print(\"You are eligible to Vote\")\n",
        "else:\n",
        "   yrs = 18-age\n",
        "   print((\"You have to wait for another \")+str(yrs)+\" years to cast your vote\")"
      ],
      "execution_count": 12,
      "outputs": [
        {
          "output_type": "stream",
          "name": "stdout",
          "text": [
            "Enter the age : 14\n",
            "You have to wait for another 4 years to cast your vote\n"
          ]
        }
      ]
    },
    {
      "cell_type": "code",
      "metadata": {
        "colab": {
          "base_uri": "https://localhost:8080/"
        },
        "id": "SUpBQjjWuMXS",
        "outputId": "0e009f4a-ae4e-4fb2-d4f4-0b91a5fac5bb"
      },
      "source": [
        "a = int(input(\"Enter the value of a : \"))\n",
        "b = int(input(\"Enter the value of b : \"))\n",
        "if(a>b):\n",
        " large=a\n",
        "else:\n",
        " large = b\n",
        "print(\"Large = \",large)"
      ],
      "execution_count": 15,
      "outputs": [
        {
          "output_type": "stream",
          "name": "stdout",
          "text": [
            "Enter the value of a : 12\n",
            "Enter the value of b : 13\n",
            "Large =  13\n"
          ]
        }
      ]
    },
    {
      "cell_type": "code",
      "metadata": {
        "colab": {
          "base_uri": "https://localhost:8080/"
        },
        "id": "HK6eoeAzuruI",
        "outputId": "7cdbdf7a-cb96-473c-dbef-a400b67be526"
      },
      "source": [
        "num = int(input(\"Enter any number : \"))\n",
        "if(num%2==0):\n",
        "  print(num,\"is even\")\n",
        "else:\n",
        "  print(num,\"is odd\")"
      ],
      "execution_count": 17,
      "outputs": [
        {
          "output_type": "stream",
          "name": "stdout",
          "text": [
            "Enter any number : 3\n",
            "3 is odd\n"
          ]
        }
      ]
    },
    {
      "cell_type": "code",
      "metadata": {
        "colab": {
          "base_uri": "https://localhost:8080/"
        },
        "id": "0NCcAZ1vu_W_",
        "outputId": "2a8d17f8-8b53-4d80-9abf-64d107dde643"
      },
      "source": [
        "ch = input(\"Enter any chracter : \")\n",
        "if(ch>='A' and ch<='Z'):\n",
        "   ch=ch.lower()\n",
        "   print(\"The entered Character was in uppercase. In lower case it is \"+ch )\n",
        "else:\n",
        "   ch=ch.upper()\n",
        "   print(\"The entered Character was in lowercase. In upper case it is \"+ch )"
      ],
      "execution_count": 21,
      "outputs": [
        {
          "output_type": "stream",
          "name": "stdout",
          "text": [
            "Enter any chracter : a\n",
            "The entered Character was in lowercase. In upper case it is A\n"
          ]
        }
      ]
    },
    {
      "cell_type": "code",
      "metadata": {
        "colab": {
          "base_uri": "https://localhost:8080/"
        },
        "id": "cCM6qquPvx_Q",
        "outputId": "01aeae7f-9c54-47cf-d91d-db0b50ee353c"
      },
      "source": [
        "sex =input(\"Enter The sex of the employee (m or f): \")\n",
        "sal =int(input(\"Enter the salary of the employee : \"))\n",
        "if (sex=='m'):\n",
        "  bonus = 0.05*sal\n",
        "else:\n",
        "  bonus =0.10*sal\n",
        "amt_to_be_paid = sal+bonus\n",
        "print(\"Salary : \",sal)\n",
        "print(\"Bonus : \",bonus)\n",
        "print(\"Amount to be paid : \",amt_to_be_paid)\n",
        "\n"
      ],
      "execution_count": 23,
      "outputs": [
        {
          "output_type": "stream",
          "name": "stdout",
          "text": [
            "Enter The sex of the employee (m or f): m\n",
            "Enter the salary of the employee : 12000\n",
            "Salary :  12000\n",
            "Bonus :  600.0\n",
            "Amount to be paid :  12600.0\n"
          ]
        }
      ]
    }
  ]
}