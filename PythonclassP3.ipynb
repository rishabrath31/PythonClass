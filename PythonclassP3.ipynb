{
  "nbformat": 4,
  "nbformat_minor": 0,
  "metadata": {
    "colab": {
      "name": "PythonclassP3.ipynb",
      "provenance": [],
      "authorship_tag": "ABX9TyN45i7WChBRvTe32zGG2P4d",
      "include_colab_link": true
    },
    "kernelspec": {
      "name": "python3",
      "display_name": "Python 3"
    },
    "language_info": {
      "name": "python"
    }
  },
  "cells": [
    {
      "cell_type": "markdown",
      "metadata": {
        "id": "view-in-github",
        "colab_type": "text"
      },
      "source": [
        "<a href=\"https://colab.research.google.com/github/rishabrath31/PythonClass/blob/main/PythonclassP3.ipynb\" target=\"_parent\"><img src=\"https://colab.research.google.com/assets/colab-badge.svg\" alt=\"Open In Colab\"/></a>"
      ]
    },
    {
      "cell_type": "code",
      "metadata": {
        "colab": {
          "base_uri": "https://localhost:8080/"
        },
        "id": "Nl3irNKSaBq6",
        "outputId": "f5c4b51a-595d-467b-871d-4d42beb6481b"
      },
      "source": [
        "x1 = (int(input(\"Enter the x coordinate of the first point : \")))\n",
        "y1 = (int(input(\"Enter the y coordinate of the first point : \")))\n",
        "x2 = (int(input(\"Enter the x coordinate of the second point :\")))\n",
        "y2 = (int(input(\"Enter the y coordinate of the second point :\")))\n",
        "distance = ((x2-x1)**2+(y2-y1)**2)**0.05\n",
        "print(\"Distance = \")\n",
        "print(distance)"
      ],
      "execution_count": 1,
      "outputs": [
        {
          "output_type": "stream",
          "name": "stdout",
          "text": [
            "Enter the x coordinate of the first point : 8\n",
            "Enter the y coordinate of the first point : 9\n",
            "Enter the x coordinate of the second point :10\n",
            "Enter the y coordinate of the second point :12\n",
            "Distance = \n",
            "1.1368342978555985\n"
          ]
        }
      ]
    },
    {
      "cell_type": "code",
      "metadata": {
        "colab": {
          "base_uri": "https://localhost:8080/"
        },
        "id": "qBqv3nDycVZz",
        "outputId": "f4e67dd7-9a94-4415-9d8c-fd9f4cbe3a77"
      },
      "source": [
        "num1 = int(input(\"Enter First number : \"))\n",
        "num2 = int(input(\"Enter Second Number :\"))\n",
        "add_res = num1+num2\n",
        "sub_res = num1-num2\n",
        "mul_res = num1*num2\n",
        "div_res = num1/num2\n",
        "mod_res = num1%num2\n",
        "print(\"Addition of Two Numbers : \",add_res)\n",
        "print(\"Subtraction of Two Numbers : \",sub_res)\n",
        "print(\"Multiplication of Two Numbers : \",mul_res)\n",
        "print(\"Division of Two Numbers : \",div_res)\n",
        "print(\"Modulus of Two Numbers : \",mod_res)"
      ],
      "execution_count": 3,
      "outputs": [
        {
          "output_type": "stream",
          "name": "stdout",
          "text": [
            "Enter First number : 100\n",
            "Enter Second Number :20\n",
            "Addition of Two Numbers :  120\n",
            "Subtraction of Two Numbers :  80\n",
            "Multiplication of Two Numbers :  2000\n",
            "Division of Two Numbers :  5.0\n",
            "Modulus of Two Numbers :  0\n"
          ]
        }
      ]
    },
    {
      "cell_type": "code",
      "metadata": {
        "colab": {
          "base_uri": "https://localhost:8080/"
        },
        "id": "nZJ6nL6FdXgG",
        "outputId": "e9e48696-af85-49ae-faaf-b143912a3084"
      },
      "source": [
        "radius = float(input(\"Enter The radius of the Circle : \"))\n",
        "area = 3.14*radius*radius\n",
        "circumference = 2*3.14*radius\n",
        "print(\"AREA = \"+str(round(area,2))+\"\\t CIRCUMFERENCE = \"+str(round(circumference,2)))"
      ],
      "execution_count": 5,
      "outputs": [
        {
          "output_type": "stream",
          "name": "stdout",
          "text": [
            "Enter The radius of the Circle : 7.0\n",
            "AREA = 153.86\t CIRCUMFERENCE = 43.96\n"
          ]
        }
      ]
    },
    {
      "cell_type": "code",
      "metadata": {
        "colab": {
          "base_uri": "https://localhost:8080/"
        },
        "id": "MkxiUMtveZiP",
        "outputId": "26ddbe4f-0de7-42b8-e15c-10d402480501"
      },
      "source": [
        "num1 = int(input(\"Enter the two Numbers : \"))\n",
        "num2 = int(input(\"Enter the two Numbers : \"))\n",
        "avg = (num1+num2)/2\n",
        "dev1 = num1-avg\n",
        "dev2 = num2-avg\n",
        "print(\"AVERAGE = \",avg)\n",
        "print(\"Deviation of First Number: \",dev1)\n",
        "print(\"Deviation of Second Number: \",dev2)\n"
      ],
      "execution_count": 6,
      "outputs": [
        {
          "output_type": "stream",
          "name": "stdout",
          "text": [
            "Enter the two Numbers : 24\n",
            "Enter the two Numbers : 25\n",
            "AVERAGE =  24.5\n",
            "Deviation of First Number:  -0.5\n",
            "Deviation of Second Number:  0.5\n"
          ]
        }
      ]
    },
    {
      "cell_type": "code",
      "metadata": {
        "colab": {
          "base_uri": "https://localhost:8080/"
        },
        "id": "RD3_fNeof5n1",
        "outputId": "4893ea6b-1443-4291-ddd6-819cb2cc124b"
      },
      "source": [
        "a= int(input(\"Enter the number : \"))\n",
        "print((\"The Floating point Vriant of  \")+str(a)+(\"=\")+str(float(a)))"
      ],
      "execution_count": 9,
      "outputs": [
        {
          "output_type": "stream",
          "name": "stdout",
          "text": [
            "Enter the number : 24\n",
            "The Floating point Vriant of  24=24.0\n"
          ]
        }
      ]
    },
    {
      "cell_type": "code",
      "metadata": {
        "id": "OI9hPgyIgP3Z"
      },
      "source": [
        ""
      ],
      "execution_count": null,
      "outputs": []
    }
  ]
}