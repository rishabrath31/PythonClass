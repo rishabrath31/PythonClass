{
  "nbformat": 4,
  "nbformat_minor": 0,
  "metadata": {
    "colab": {
      "name": "Pythonclassp14.ipynb",
      "provenance": [],
      "collapsed_sections": [],
      "authorship_tag": "ABX9TyM/P4SM2HUbgU3OOAaWNm7R",
      "include_colab_link": true
    },
    "kernelspec": {
      "name": "python3",
      "display_name": "Python 3"
    },
    "language_info": {
      "name": "python"
    }
  },
  "cells": [
    {
      "cell_type": "markdown",
      "metadata": {
        "id": "view-in-github",
        "colab_type": "text"
      },
      "source": [
        "<a href=\"https://colab.research.google.com/github/rishabrath31/PythonClass/blob/main/Pythonclassp14.ipynb\" target=\"_parent\"><img src=\"https://colab.research.google.com/assets/colab-badge.svg\" alt=\"Open In Colab\"/></a>"
      ]
    },
    {
      "cell_type": "code",
      "metadata": {
        "colab": {
          "base_uri": "https://localhost:8080/"
        },
        "id": "pgqc6RUBQadk",
        "outputId": "82f0b6d2-1ab7-4971-b9a8-4638ee0a4e90"
      },
      "source": [
        "sum=0\n",
        "for i in range(1,11,1):\n",
        "  sum=sum+i\n",
        "print(\"Sum =\",sum)"
      ],
      "execution_count": 1,
      "outputs": [
        {
          "output_type": "stream",
          "name": "stdout",
          "text": [
            "Sum = 55\n"
          ]
        }
      ]
    },
    {
      "cell_type": "code",
      "metadata": {
        "colab": {
          "base_uri": "https://localhost:8080/"
        },
        "id": "KXR4glZ9T8nN",
        "outputId": "a2f919ab-b460-455d-8a3c-06c5df5dad5e"
      },
      "source": [
        "i = 1\n",
        "while(i<=10):\n",
        "  if(i%2==0):\n",
        "   print(i,\"is Even\")\n",
        "  i+=1"
      ],
      "execution_count": 6,
      "outputs": [
        {
          "output_type": "stream",
          "name": "stdout",
          "text": [
            "2 is Even\n",
            "4 is Even\n",
            "6 is Even\n",
            "8 is Even\n",
            "10 is Even\n"
          ]
        }
      ]
    },
    {
      "cell_type": "code",
      "metadata": {
        "colab": {
          "base_uri": "https://localhost:8080/"
        },
        "id": "aSGzAInUYba8",
        "outputId": "2bc0bbb1-906c-450a-b8a9-8bc5061ebb4f"
      },
      "source": [
        "list =[10,20,30,40,50,60,70,80,90]\n",
        "print(list)\n",
        "list.reverse()\n",
        "print(list)"
      ],
      "execution_count": 12,
      "outputs": [
        {
          "output_type": "stream",
          "name": "stdout",
          "text": [
            "[10, 20, 30, 40, 50, 60, 70, 80, 90]\n",
            "[90, 80, 70, 60, 50, 40, 30, 20, 10]\n"
          ]
        }
      ]
    },
    {
      "cell_type": "code",
      "metadata": {
        "colab": {
          "base_uri": "https://localhost:8080/"
        },
        "id": "kzWbZrMsZXHq",
        "outputId": "bafdf232-71c7-4fc6-fe74-4eb894cb8c74"
      },
      "source": [
        "list=['red','blue','green','pink','gray']\n",
        "list.sort()\n",
        "print(list)"
      ],
      "execution_count": 13,
      "outputs": [
        {
          "output_type": "stream",
          "name": "stdout",
          "text": [
            "['blue', 'gray', 'green', 'pink', 'red']\n"
          ]
        }
      ]
    }
  ]
}