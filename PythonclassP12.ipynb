{
  "nbformat": 4,
  "nbformat_minor": 0,
  "metadata": {
    "colab": {
      "name": "Untitled0.ipynb",
      "provenance": [],
      "collapsed_sections": [],
      "authorship_tag": "ABX9TyOoYJz1by0Mm/l7rRVu1eWQ",
      "include_colab_link": true
    },
    "kernelspec": {
      "name": "python3",
      "display_name": "Python 3"
    },
    "language_info": {
      "name": "python"
    }
  },
  "cells": [
    {
      "cell_type": "markdown",
      "metadata": {
        "id": "view-in-github",
        "colab_type": "text"
      },
      "source": [
        "<a href=\"https://colab.research.google.com/github/rishabrath31/PythonClass/blob/main/PythonclassP12.ipynb\" target=\"_parent\"><img src=\"https://colab.research.google.com/assets/colab-badge.svg\" alt=\"Open In Colab\"/></a>"
      ]
    },
    {
      "cell_type": "code",
      "metadata": {
        "colab": {
          "base_uri": "https://localhost:8080/"
        },
        "id": "QA77h9TFu3A6",
        "outputId": "49f8d30c-32f5-440c-b68d-c0c1ea79201a"
      },
      "source": [
        "friends=['Joseph','Damon','Stephen']\n",
        "for friend in friends:\n",
        "  print(\"Hello Boy: \",friend)"
      ],
      "execution_count": 1,
      "outputs": [
        {
          "output_type": "stream",
          "name": "stdout",
          "text": [
            "Hello Boy:  Joseph\n",
            "Hello Boy:  Damon\n",
            "Hello Boy:  Stephen\n"
          ]
        }
      ]
    },
    {
      "cell_type": "code",
      "metadata": {
        "colab": {
          "base_uri": "https://localhost:8080/"
        },
        "id": "piTAXrgWvyJ_",
        "outputId": "8013c809-3e92-4b88-9893-d306b2849f95"
      },
      "source": [
        "a=len(friends)\n",
        "print(a)"
      ],
      "execution_count": 2,
      "outputs": [
        {
          "output_type": "stream",
          "name": "stdout",
          "text": [
            "3\n"
          ]
        }
      ]
    },
    {
      "cell_type": "code",
      "metadata": {
        "colab": {
          "base_uri": "https://localhost:8080/"
        },
        "id": "iIzJ_-Lxv9G1",
        "outputId": "b49e6f77-9355-45d6-8dfe-c07ce8464ee4"
      },
      "source": [
        "a=range(len(friends))\n",
        "print(a)"
      ],
      "execution_count": 3,
      "outputs": [
        {
          "output_type": "stream",
          "name": "stdout",
          "text": [
            "range(0, 3)\n"
          ]
        }
      ]
    },
    {
      "cell_type": "code",
      "metadata": {
        "colab": {
          "base_uri": "https://localhost:8080/"
        },
        "id": "uFV_edsEwFkF",
        "outputId": "743faec6-6b52-4beb-acf1-e62ca0af09c3"
      },
      "source": [
        "friends=['Joseph','Damon','Stephen']\n",
        "for i in range(len(friends)):\n",
        "  print(i)\n",
        "  friend=friends[i]\n",
        "  print(\"Happy New Year :\", friend)\n",
        "  print('hi')"
      ],
      "execution_count": 9,
      "outputs": [
        {
          "output_type": "stream",
          "name": "stdout",
          "text": [
            "0\n",
            "Happy New Year : Joseph\n",
            "hi\n",
            "1\n",
            "Happy New Year : Damon\n",
            "hi\n",
            "2\n",
            "Happy New Year : Stephen\n",
            "hi\n"
          ]
        }
      ]
    },
    {
      "cell_type": "code",
      "metadata": {
        "colab": {
          "base_uri": "https://localhost:8080/"
        },
        "id": "ozyIkB4j1pxe",
        "outputId": "cc401d44-fefc-4129-c028-3eaf452c36c6"
      },
      "source": [
        "abc= 'hello People In the world'\n",
        "stuff= abc.split()\n",
        "print(stuff)"
      ],
      "execution_count": 11,
      "outputs": [
        {
          "output_type": "stream",
          "name": "stdout",
          "text": [
            "['hello', 'People', 'In', 'the', 'world']\n"
          ]
        }
      ]
    }
  ]
}