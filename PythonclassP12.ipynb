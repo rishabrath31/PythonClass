{
  "nbformat": 4,
  "nbformat_minor": 0,
  "metadata": {
    "colab": {
      "name": "PythonclassP12.ipynb",
      "provenance": [],
      "collapsed_sections": [],
      "authorship_tag": "ABX9TyM6HsDjRjfwWz+rdBDeARZ5",
      "include_colab_link": true
    },
    "kernelspec": {
      "name": "python3",
      "display_name": "Python 3"
    },
    "language_info": {
      "name": "python"
    }
  },
  "cells": [
    {
      "cell_type": "markdown",
      "metadata": {
        "id": "view-in-github",
        "colab_type": "text"
      },
      "source": [
        "<a href=\"https://colab.research.google.com/github/rishabrath31/PythonClass/blob/main/PythonclassP12.ipynb\" target=\"_parent\"><img src=\"https://colab.research.google.com/assets/colab-badge.svg\" alt=\"Open In Colab\"/></a>"
      ]
    },
    {
      "cell_type": "code",
      "metadata": {
        "colab": {
          "base_uri": "https://localhost:8080/"
        },
        "id": "0P0HtHQNb_JK",
        "outputId": "782e8e18-de9c-46cd-c485-4053cf14f3c3"
      },
      "source": [
        "for i in range(2,1001,1):\n",
        "  for j in range(2,i,1):\n",
        "    if i%j==0:\n",
        "      break\n",
        "  else:\n",
        "    print(i,\" is a prime number\")"
      ],
      "execution_count": 9,
      "outputs": [
        {
          "output_type": "stream",
          "name": "stdout",
          "text": [
            "2  is a prime number\n",
            "3  is a prime number\n",
            "5  is a prime number\n",
            "7  is a prime number\n",
            "11  is a prime number\n",
            "13  is a prime number\n",
            "17  is a prime number\n",
            "19  is a prime number\n",
            "23  is a prime number\n",
            "29  is a prime number\n",
            "31  is a prime number\n",
            "37  is a prime number\n",
            "41  is a prime number\n",
            "43  is a prime number\n",
            "47  is a prime number\n",
            "53  is a prime number\n",
            "59  is a prime number\n",
            "61  is a prime number\n",
            "67  is a prime number\n",
            "71  is a prime number\n",
            "73  is a prime number\n",
            "79  is a prime number\n",
            "83  is a prime number\n",
            "89  is a prime number\n",
            "97  is a prime number\n",
            "101  is a prime number\n",
            "103  is a prime number\n",
            "107  is a prime number\n",
            "109  is a prime number\n",
            "113  is a prime number\n",
            "127  is a prime number\n",
            "131  is a prime number\n",
            "137  is a prime number\n",
            "139  is a prime number\n",
            "149  is a prime number\n",
            "151  is a prime number\n",
            "157  is a prime number\n",
            "163  is a prime number\n",
            "167  is a prime number\n",
            "173  is a prime number\n",
            "179  is a prime number\n",
            "181  is a prime number\n",
            "191  is a prime number\n",
            "193  is a prime number\n",
            "197  is a prime number\n",
            "199  is a prime number\n",
            "211  is a prime number\n",
            "223  is a prime number\n",
            "227  is a prime number\n",
            "229  is a prime number\n",
            "233  is a prime number\n",
            "239  is a prime number\n",
            "241  is a prime number\n",
            "251  is a prime number\n",
            "257  is a prime number\n",
            "263  is a prime number\n",
            "269  is a prime number\n",
            "271  is a prime number\n",
            "277  is a prime number\n",
            "281  is a prime number\n",
            "283  is a prime number\n",
            "293  is a prime number\n",
            "307  is a prime number\n",
            "311  is a prime number\n",
            "313  is a prime number\n",
            "317  is a prime number\n",
            "331  is a prime number\n",
            "337  is a prime number\n",
            "347  is a prime number\n",
            "349  is a prime number\n",
            "353  is a prime number\n",
            "359  is a prime number\n",
            "367  is a prime number\n",
            "373  is a prime number\n",
            "379  is a prime number\n",
            "383  is a prime number\n",
            "389  is a prime number\n",
            "397  is a prime number\n",
            "401  is a prime number\n",
            "409  is a prime number\n",
            "419  is a prime number\n",
            "421  is a prime number\n",
            "431  is a prime number\n",
            "433  is a prime number\n",
            "439  is a prime number\n",
            "443  is a prime number\n",
            "449  is a prime number\n",
            "457  is a prime number\n",
            "461  is a prime number\n",
            "463  is a prime number\n",
            "467  is a prime number\n",
            "479  is a prime number\n",
            "487  is a prime number\n",
            "491  is a prime number\n",
            "499  is a prime number\n",
            "503  is a prime number\n",
            "509  is a prime number\n",
            "521  is a prime number\n",
            "523  is a prime number\n",
            "541  is a prime number\n",
            "547  is a prime number\n",
            "557  is a prime number\n",
            "563  is a prime number\n",
            "569  is a prime number\n",
            "571  is a prime number\n",
            "577  is a prime number\n",
            "587  is a prime number\n",
            "593  is a prime number\n",
            "599  is a prime number\n",
            "601  is a prime number\n",
            "607  is a prime number\n",
            "613  is a prime number\n",
            "617  is a prime number\n",
            "619  is a prime number\n",
            "631  is a prime number\n",
            "641  is a prime number\n",
            "643  is a prime number\n",
            "647  is a prime number\n",
            "653  is a prime number\n",
            "659  is a prime number\n",
            "661  is a prime number\n",
            "673  is a prime number\n",
            "677  is a prime number\n",
            "683  is a prime number\n",
            "691  is a prime number\n",
            "701  is a prime number\n",
            "709  is a prime number\n",
            "719  is a prime number\n",
            "727  is a prime number\n",
            "733  is a prime number\n",
            "739  is a prime number\n",
            "743  is a prime number\n",
            "751  is a prime number\n",
            "757  is a prime number\n",
            "761  is a prime number\n",
            "769  is a prime number\n",
            "773  is a prime number\n",
            "787  is a prime number\n",
            "797  is a prime number\n",
            "809  is a prime number\n",
            "811  is a prime number\n",
            "821  is a prime number\n",
            "823  is a prime number\n",
            "827  is a prime number\n",
            "829  is a prime number\n",
            "839  is a prime number\n",
            "853  is a prime number\n",
            "857  is a prime number\n",
            "859  is a prime number\n",
            "863  is a prime number\n",
            "877  is a prime number\n",
            "881  is a prime number\n",
            "883  is a prime number\n",
            "887  is a prime number\n",
            "907  is a prime number\n",
            "911  is a prime number\n",
            "919  is a prime number\n",
            "929  is a prime number\n",
            "937  is a prime number\n",
            "941  is a prime number\n",
            "947  is a prime number\n",
            "953  is a prime number\n",
            "967  is a prime number\n",
            "971  is a prime number\n",
            "977  is a prime number\n",
            "983  is a prime number\n",
            "991  is a prime number\n",
            "997  is a prime number\n"
          ]
        }
      ]
    },
    {
      "cell_type": "code",
      "metadata": {
        "colab": {
          "base_uri": "https://localhost:8080/"
        },
        "id": "6cEGlPTLdiah",
        "outputId": "040c5a41-d406-4b9f-c146-6db63fbc9e8a"
      },
      "source": [
        "s1 = \"Good\"\n",
        "s2 = \"Morning\"\n",
        "s1 += s2\n",
        "print(s1)"
      ],
      "execution_count": 10,
      "outputs": [
        {
          "output_type": "stream",
          "name": "stdout",
          "text": [
            "GoodMorning\n"
          ]
        }
      ]
    },
    {
      "cell_type": "code",
      "metadata": {
        "colab": {
          "base_uri": "https://localhost:8080/"
        },
        "id": "Nd2V4C6Sekyh",
        "outputId": "790c141b-e6f9-4a9f-a4a6-a022f54f8e07"
      },
      "source": [
        "250 + 130 - 70"
      ],
      "execution_count": 11,
      "outputs": [
        {
          "output_type": "execute_result",
          "data": {
            "text/plain": [
              "310"
            ]
          },
          "metadata": {},
          "execution_count": 11
        }
      ]
    },
    {
      "cell_type": "code",
      "metadata": {
        "colab": {
          "base_uri": "https://localhost:8080/"
        },
        "id": "8gOLCpbne1-V",
        "outputId": "326e369a-b14b-402f-c5ca-b809f2a15e70"
      },
      "source": [
        "(32+5.2-3) * 10\n"
      ],
      "execution_count": 12,
      "outputs": [
        {
          "output_type": "execute_result",
          "data": {
            "text/plain": [
              "342.0"
            ]
          },
          "metadata": {},
          "execution_count": 12
        }
      ]
    },
    {
      "cell_type": "code",
      "metadata": {
        "colab": {
          "base_uri": "https://localhost:8080/"
        },
        "id": "7nZ3dn98e9M8",
        "outputId": "7b397fde-413d-4c14-e626-161194342efa"
      },
      "source": [
        "100 % (45//2)"
      ],
      "execution_count": 13,
      "outputs": [
        {
          "output_type": "execute_result",
          "data": {
            "text/plain": [
              "12"
            ]
          },
          "metadata": {},
          "execution_count": 13
        }
      ]
    },
    {
      "cell_type": "code",
      "metadata": {
        "colab": {
          "base_uri": "https://localhost:8080/"
        },
        "id": "0XMpGxkyfCDW",
        "outputId": "32b41f48-e9f4-4b9a-b408-c47e7bcd68d2"
      },
      "source": [
        "abs(10-20)"
      ],
      "execution_count": 14,
      "outputs": [
        {
          "output_type": "execute_result",
          "data": {
            "text/plain": [
              "10"
            ]
          },
          "metadata": {},
          "execution_count": 14
        }
      ]
    },
    {
      "cell_type": "code",
      "metadata": {
        "colab": {
          "base_uri": "https://localhost:8080/"
        },
        "id": "Acvce4l9fJ9d",
        "outputId": "5eadf826-15bd-4d98-d60b-40938219d138"
      },
      "source": [
        "i = 0\n",
        "while i < 10:\n",
        "  print(i)\n",
        "  i+=1"
      ],
      "execution_count": 15,
      "outputs": [
        {
          "output_type": "stream",
          "name": "stdout",
          "text": [
            "0\n",
            "1\n",
            "2\n",
            "3\n",
            "4\n",
            "5\n",
            "6\n",
            "7\n",
            "8\n",
            "9\n"
          ]
        }
      ]
    },
    {
      "cell_type": "code",
      "metadata": {
        "colab": {
          "base_uri": "https://localhost:8080/"
        },
        "id": "99-fPrDzg32w",
        "outputId": "d766f738-2211-4403-ba9e-e4ee6acf06c2"
      },
      "source": [
        "num = 3\n",
        "if num > 0 :\n",
        "  print(\"POSITIVE \")\n",
        "print(\"This is always printed\")"
      ],
      "execution_count": 16,
      "outputs": [
        {
          "output_type": "stream",
          "name": "stdout",
          "text": [
            "POSITIVE \n",
            "This is always printed\n"
          ]
        }
      ]
    },
    {
      "cell_type": "code",
      "metadata": {
        "colab": {
          "base_uri": "https://localhost:8080/"
        },
        "id": "gJq1nP-NhG3N",
        "outputId": "c329442f-acf7-49aa-8e59-1bee9aec3bbd"
      },
      "source": [
        "i = 1\n",
        "while i < 10:\n",
        "  print (i)\n",
        "  i+=1"
      ],
      "execution_count": 18,
      "outputs": [
        {
          "output_type": "stream",
          "name": "stdout",
          "text": [
            "1\n",
            "2\n",
            "3\n",
            "4\n",
            "5\n",
            "6\n",
            "7\n",
            "8\n",
            "9\n"
          ]
        }
      ]
    }
  ]
}