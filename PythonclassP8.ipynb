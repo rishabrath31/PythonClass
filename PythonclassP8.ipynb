{
  "nbformat": 4,
  "nbformat_minor": 0,
  "metadata": {
    "colab": {
      "name": "PythonclassP8.ipynb",
      "provenance": [],
      "collapsed_sections": [],
      "authorship_tag": "ABX9TyNRH/o/B8W4wSBf30Q46laY",
      "include_colab_link": true
    },
    "kernelspec": {
      "name": "python3",
      "display_name": "Python 3"
    },
    "language_info": {
      "name": "python"
    }
  },
  "cells": [
    {
      "cell_type": "markdown",
      "metadata": {
        "id": "view-in-github",
        "colab_type": "text"
      },
      "source": [
        "<a href=\"https://colab.research.google.com/github/rishabrath31/PythonClass/blob/main/PythonclassP8.ipynb\" target=\"_parent\"><img src=\"https://colab.research.google.com/assets/colab-badge.svg\" alt=\"Open In Colab\"/></a>"
      ]
    },
    {
      "cell_type": "code",
      "metadata": {
        "colab": {
          "base_uri": "https://localhost:8080/"
        },
        "id": "qO7y57rEULGh",
        "outputId": "cbe8549b-0a14-4558-a338-8d1577ff2a5b"
      },
      "source": [
        "years = 200\n",
        "if(years ==100):\n",
        "  print(\"Century\")\n",
        "elif(years == 75):\n",
        "  print(\"Platinum Jublee\")\n",
        "elif(years == 50):\n",
        "  print(\"Half Century\")\n",
        "elif(years == 25):\n",
        "  print(\"Silver Jublee\")\n",
        "elif(years == 10):\n",
        "  print(\"Decade\")\n",
        "else:\n",
        "  print(\"Nothing\")"
      ],
      "execution_count": 1,
      "outputs": [
        {
          "output_type": "stream",
          "name": "stdout",
          "text": [
            "Nothing\n"
          ]
        }
      ]
    },
    {
      "cell_type": "code",
      "metadata": {
        "colab": {
          "base_uri": "https://localhost:8080/"
        },
        "id": "GQe6PLUmVD5j",
        "outputId": "35ce4849-6470-4448-cc40-f3288f130533"
      },
      "source": [
        "num = 100\n",
        "if num > 30:\n",
        "  print(\"30\")\n",
        "if num < 50:\n",
        "  print(\"50\")\n",
        "if num==7:\n",
        "  print(\"Yeah\")\n"
      ],
      "execution_count": 2,
      "outputs": [
        {
          "output_type": "stream",
          "name": "stdout",
          "text": [
            "30\n"
          ]
        }
      ]
    },
    {
      "cell_type": "code",
      "metadata": {
        "colab": {
          "base_uri": "https://localhost:8080/"
        },
        "id": "ZEqe3139VdUy",
        "outputId": "d86376cc-dfb0-4af4-8b55-84d2ee489ceb"
      },
      "source": [
        "x = 100\n",
        "if x ==50:\n",
        "  print(\"Yeah\")\n",
        "else:\n",
        "  print(\"Try Again...\")"
      ],
      "execution_count": 3,
      "outputs": [
        {
          "output_type": "stream",
          "name": "stdout",
          "text": [
            "Try Again...\n"
          ]
        }
      ]
    },
    {
      "cell_type": "code",
      "metadata": {
        "colab": {
          "base_uri": "https://localhost:8080/"
        },
        "id": "BkBWzK1IVpTY",
        "outputId": "903aeab2-fcfc-4546-916a-b4ba2b6dc4d5"
      },
      "source": [
        "num = 100\n",
        "if (num + 1) > 100:\n",
        "\n",
        "  if(num * 2) >=200:\n",
        "    print(\"you win\")\n",
        "else:\n",
        "      print(\"Try Again...\")"
      ],
      "execution_count": 12,
      "outputs": [
        {
          "output_type": "stream",
          "name": "stdout",
          "text": [
            "you win\n"
          ]
        }
      ]
    },
    {
      "cell_type": "code",
      "metadata": {
        "colab": {
          "base_uri": "https://localhost:8080/"
        },
        "id": "vIfiTlwfW0rt",
        "outputId": "6979e13f-e6e9-4289-8163-ad90ca50feca"
      },
      "source": [
        "num = 70\n",
        "if num ==50:\n",
        "  print(\"50\")\n",
        "elif num ==10:\n",
        "  print(\"10\")\n",
        "elif num==70:\n",
        "  print(\"70\")\n",
        "else:\n",
        "  print(\"Number is not 50, 10 or 70\")\n",
        "print(\"Number is not 50, 10 or 70\")"
      ],
      "execution_count": 13,
      "outputs": [
        {
          "output_type": "stream",
          "name": "stdout",
          "text": [
            "70\n",
            "Number is not 50, 10 or 70\n"
          ]
        }
      ]
    },
    {
      "cell_type": "code",
      "metadata": {
        "colab": {
          "base_uri": "https://localhost:8080/"
        },
        "id": "QLHZJ1YJXZQm",
        "outputId": "aae1f597-d1fd-4bf3-cfd4-4791dcf302d1"
      },
      "source": [
        "if(10 == 10) and (10+20>30):\n",
        "  print(\"Done\")\n",
        "else:\n",
        "  print(\"Do it\")"
      ],
      "execution_count": 14,
      "outputs": [
        {
          "output_type": "stream",
          "name": "stdout",
          "text": [
            "Do it\n"
          ]
        }
      ]
    },
    {
      "cell_type": "code",
      "metadata": {
        "colab": {
          "base_uri": "https://localhost:8080/"
        },
        "id": "1C2SjdFSXnLd",
        "outputId": "7baa0637-276b-418f-9cf0-c7a0363b1ba6"
      },
      "source": [
        "not 10>70"
      ],
      "execution_count": 15,
      "outputs": [
        {
          "output_type": "execute_result",
          "data": {
            "text/plain": [
              "True"
            ]
          },
          "metadata": {},
          "execution_count": 15
        }
      ]
    },
    {
      "cell_type": "code",
      "metadata": {
        "colab": {
          "base_uri": "https://localhost:8080/"
        },
        "id": "w4B6E_mJXto6",
        "outputId": "ceb59b79-e7d7-4592-b941-50de93f0901d"
      },
      "source": [
        "if not True:\n",
        "  print(\"10\")\n",
        "elif not(10+10 == 30):\n",
        "  print(\"20\")\n",
        "else:\n",
        "  print(\"30\")"
      ],
      "execution_count": 16,
      "outputs": [
        {
          "output_type": "stream",
          "name": "stdout",
          "text": [
            "20\n"
          ]
        }
      ]
    },
    {
      "cell_type": "code",
      "metadata": {
        "colab": {
          "base_uri": "https://localhost:8080/"
        },
        "id": "isHcfEfLYAiL",
        "outputId": "ddd761a4-96d5-4d32-81ee-c5100aaf47a1"
      },
      "source": [
        "if 10 + 30 == 60:\n",
        "  print(\"Best\")\n",
        "else: \n",
        "  print(\"Worst\")"
      ],
      "execution_count": 17,
      "outputs": [
        {
          "output_type": "stream",
          "name": "stdout",
          "text": [
            "Worst\n"
          ]
        }
      ]
    },
    {
      "cell_type": "code",
      "metadata": {
        "colab": {
          "base_uri": "https://localhost:8080/"
        },
        "id": "JUegiLZkYL-W",
        "outputId": "2756eddf-a211-4eba-e598-4be1eb418ede"
      },
      "source": [
        "a = 10\n",
        "b = 20\n",
        "if not 10 +10 == b or a == 40 and 70 == 80:\n",
        "  print(\"Yes\")\n",
        "elif a!=b:\n",
        "  print(\"No\")"
      ],
      "execution_count": 18,
      "outputs": [
        {
          "output_type": "stream",
          "name": "stdout",
          "text": [
            "No\n"
          ]
        }
      ]
    },
    {
      "cell_type": "code",
      "metadata": {
        "colab": {
          "base_uri": "https://localhost:8080/"
        },
        "id": "U844Fy9OYlSz",
        "outputId": "60b1c450-f1e8-43c6-a533-cc95eee2ad8a"
      },
      "source": [
        "print(\"Hello\")\n"
      ],
      "execution_count": 4,
      "outputs": [
        {
          "output_type": "stream",
          "name": "stdout",
          "text": [
            "Hello\n"
          ]
        }
      ]
    },
    {
      "cell_type": "code",
      "metadata": {
        "colab": {
          "base_uri": "https://localhost:8080/"
        },
        "id": "8c9VscvZZeU5",
        "outputId": "02f30163-4547-485b-ae4a-ed1dbeeaccce"
      },
      "source": [
        "i = 0\n",
        "while i<10:\n",
        "  i = i + 1\n",
        "  if(i == 5):\n",
        "    print(\"\\n Continue\")\n",
        "    continue\n",
        "  if(i==7):\n",
        "   print(\"\\n Breaking\")\n",
        "  break\n",
        "print(i,end =\" \")"
      ],
      "execution_count": 9,
      "outputs": [
        {
          "output_type": "stream",
          "name": "stdout",
          "text": [
            "1 "
          ]
        }
      ]
    },
    {
      "cell_type": "code",
      "metadata": {
        "colab": {
          "base_uri": "https://localhost:8080/"
        },
        "id": "RhvRF62HazZA",
        "outputId": "6a54de97-1b85-4358-8c5a-e45b03562e65"
      },
      "source": [
        "for i in range(5):\n",
        "  print(\"hello !\",end = \" \")"
      ],
      "execution_count": 10,
      "outputs": [
        {
          "output_type": "stream",
          "name": "stdout",
          "text": [
            "hello ! hello ! hello ! hello ! hello ! "
          ]
        }
      ]
    }
  ]
}