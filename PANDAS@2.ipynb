{
 "cells": [
  {
   "cell_type": "code",
   "execution_count": 1,
   "id": "392daec3",
   "metadata": {},
   "outputs": [],
   "source": [
    "#how to access the data when Series acts as dictionary?"
   ]
  },
  {
   "cell_type": "code",
   "execution_count": 2,
   "id": "229907af",
   "metadata": {},
   "outputs": [],
   "source": [
    "import pandas as pd"
   ]
  },
  {
   "cell_type": "code",
   "execution_count": 5,
   "id": "42f0a49d",
   "metadata": {},
   "outputs": [
    {
     "data": {
      "text/plain": [
       "A    10\n",
       "B    20\n",
       "C    30\n",
       "D    40\n",
       "E    50\n",
       "dtype: int64"
      ]
     },
     "execution_count": 5,
     "metadata": {},
     "output_type": "execute_result"
    }
   ],
   "source": [
    "data = pd.Series([10,20,30,40,50],index=['A','B','C','D','E'])\n",
    "data"
   ]
  },
  {
   "cell_type": "code",
   "execution_count": 6,
   "id": "ba93501f",
   "metadata": {},
   "outputs": [
    {
     "data": {
      "text/plain": [
       "10"
      ]
     },
     "execution_count": 6,
     "metadata": {},
     "output_type": "execute_result"
    }
   ],
   "source": [
    "data['A']"
   ]
  },
  {
   "cell_type": "code",
   "execution_count": 7,
   "id": "2ab26251",
   "metadata": {},
   "outputs": [
    {
     "data": {
      "text/plain": [
       "True"
      ]
     },
     "execution_count": 7,
     "metadata": {},
     "output_type": "execute_result"
    }
   ],
   "source": [
    "'A' in data"
   ]
  },
  {
   "cell_type": "code",
   "execution_count": 9,
   "id": "260f7091",
   "metadata": {},
   "outputs": [],
   "source": [
    "pd.Series.keys?"
   ]
  },
  {
   "cell_type": "code",
   "execution_count": 10,
   "id": "e1e37879",
   "metadata": {},
   "outputs": [
    {
     "data": {
      "text/plain": [
       "Index(['A', 'B', 'C', 'D', 'E'], dtype='object')"
      ]
     },
     "execution_count": 10,
     "metadata": {},
     "output_type": "execute_result"
    }
   ],
   "source": [
    "data.keys()"
   ]
  },
  {
   "cell_type": "code",
   "execution_count": 12,
   "id": "57db6311",
   "metadata": {},
   "outputs": [],
   "source": [
    "pd.Series.items?"
   ]
  },
  {
   "cell_type": "code",
   "execution_count": 13,
   "id": "9b6e2647",
   "metadata": {},
   "outputs": [
    {
     "name": "stdout",
     "output_type": "stream",
     "text": [
      "<zip object at 0x000002CD9DED5A40>\n"
     ]
    }
   ],
   "source": [
    "print(data.items());"
   ]
  },
  {
   "cell_type": "code",
   "execution_count": 14,
   "id": "ed44bc6b",
   "metadata": {},
   "outputs": [
    {
     "name": "stdout",
     "output_type": "stream",
     "text": [
      "[('A', 10), ('B', 20), ('C', 30), ('D', 40), ('E', 50)]\n"
     ]
    }
   ],
   "source": [
    "print(list(data.items()))"
   ]
  },
  {
   "cell_type": "code",
   "execution_count": 16,
   "id": "ae1a5ac1",
   "metadata": {},
   "outputs": [
    {
     "data": {
      "text/plain": [
       "A    45\n",
       "B    20\n",
       "C    30\n",
       "D    40\n",
       "E    50\n",
       "dtype: int64"
      ]
     },
     "execution_count": 16,
     "metadata": {},
     "output_type": "execute_result"
    }
   ],
   "source": [
    "data['A'] = 45\n",
    "data"
   ]
  },
  {
   "cell_type": "code",
   "execution_count": 17,
   "id": "b2f3a9ce",
   "metadata": {},
   "outputs": [],
   "source": [
    "# How to access the data when Series acts as one Dimensional Array?"
   ]
  },
  {
   "cell_type": "code",
   "execution_count": 19,
   "id": "3c295b1a",
   "metadata": {},
   "outputs": [
    {
     "name": "stdout",
     "output_type": "stream",
     "text": [
      "A    45\n",
      "B    20\n",
      "C    30\n",
      "D    40\n",
      "E    50\n",
      "dtype: int64\n",
      "A    45\n",
      "B    20\n",
      "C    30\n",
      "D    40\n",
      "dtype: int64\n"
     ]
    }
   ],
   "source": [
    "print(data)\n",
    "print(data['A':'D'])"
   ]
  },
  {
   "cell_type": "code",
   "execution_count": 20,
   "id": "25223955",
   "metadata": {},
   "outputs": [
    {
     "name": "stdout",
     "output_type": "stream",
     "text": [
      "A    45\n",
      "B    20\n",
      "C    30\n",
      "D    40\n",
      "E    50\n",
      "dtype: int64\n",
      "A    45\n",
      "B    20\n",
      "C    30\n",
      "D    40\n",
      "dtype: int64\n"
     ]
    }
   ],
   "source": [
    "print(data)\n",
    "print(data[0:4])"
   ]
  },
  {
   "cell_type": "code",
   "execution_count": 22,
   "id": "0d43157d",
   "metadata": {},
   "outputs": [
    {
     "data": {
      "text/plain": [
       "A    45\n",
       "C    30\n",
       "D    40\n",
       "dtype: int64"
      ]
     },
     "execution_count": 22,
     "metadata": {},
     "output_type": "execute_result"
    }
   ],
   "source": [
    "data[(data > 20) & (data < 50)]"
   ]
  },
  {
   "cell_type": "code",
   "execution_count": 21,
   "id": "1affac1a",
   "metadata": {},
   "outputs": [
    {
     "data": {
      "text/plain": [
       "A    45\n",
       "E    50\n",
       "dtype: int64"
      ]
     },
     "execution_count": 21,
     "metadata": {},
     "output_type": "execute_result"
    }
   ],
   "source": [
    "data[['A','E']]"
   ]
  },
  {
   "cell_type": "code",
   "execution_count": null,
   "id": "30e686e8",
   "metadata": {},
   "outputs": [],
   "source": [
    "#indexers loc and iloc"
   ]
  },
  {
   "cell_type": "code",
   "execution_count": 23,
   "id": "9cd40430",
   "metadata": {},
   "outputs": [
    {
     "data": {
      "text/plain": [
       "A    45\n",
       "B    20\n",
       "C    30\n",
       "D    40\n",
       "E    50\n",
       "dtype: int64"
      ]
     },
     "execution_count": 23,
     "metadata": {},
     "output_type": "execute_result"
    }
   ],
   "source": [
    "data"
   ]
  },
  {
   "cell_type": "code",
   "execution_count": 24,
   "id": "ec649772",
   "metadata": {},
   "outputs": [
    {
     "data": {
      "text/plain": [
       "B    20\n",
       "C    30\n",
       "dtype: int64"
      ]
     },
     "execution_count": 24,
     "metadata": {},
     "output_type": "execute_result"
    }
   ],
   "source": [
    "data[1:3]"
   ]
  },
  {
   "cell_type": "code",
   "execution_count": 25,
   "id": "71e47657",
   "metadata": {},
   "outputs": [
    {
     "data": {
      "text/plain": [
       "B    20\n",
       "C    30\n",
       "D    40\n",
       "dtype: int64"
      ]
     },
     "execution_count": 25,
     "metadata": {},
     "output_type": "execute_result"
    }
   ],
   "source": [
    "data['B':'D']"
   ]
  },
  {
   "cell_type": "code",
   "execution_count": 26,
   "id": "a2e337c4",
   "metadata": {},
   "outputs": [
    {
     "data": {
      "text/plain": [
       "1    a\n",
       "3    b\n",
       "4    c\n",
       "5    d\n",
       "6    e\n",
       "7    f\n",
       "dtype: object"
      ]
     },
     "execution_count": 26,
     "metadata": {},
     "output_type": "execute_result"
    }
   ],
   "source": [
    "idata = pd.Series(['a','b','c','d','e','f'],index=[1,3,4,5,6,7])\n",
    "idata"
   ]
  },
  {
   "cell_type": "code",
   "execution_count": 27,
   "id": "8c5ff1b6",
   "metadata": {},
   "outputs": [
    {
     "data": {
      "text/plain": [
       "'a'"
      ]
     },
     "execution_count": 27,
     "metadata": {},
     "output_type": "execute_result"
    }
   ],
   "source": [
    "idata[1]"
   ]
  },
  {
   "cell_type": "code",
   "execution_count": 28,
   "id": "4f7ff6a6",
   "metadata": {},
   "outputs": [
    {
     "data": {
      "text/plain": [
       "3    b\n",
       "4    c\n",
       "5    d\n",
       "dtype: object"
      ]
     },
     "execution_count": 28,
     "metadata": {},
     "output_type": "execute_result"
    }
   ],
   "source": [
    "idata[1:4]"
   ]
  },
  {
   "cell_type": "code",
   "execution_count": 29,
   "id": "1c82aa8f",
   "metadata": {},
   "outputs": [],
   "source": [
    "pd.Series.loc?"
   ]
  },
  {
   "cell_type": "code",
   "execution_count": 30,
   "id": "eab7e2bf",
   "metadata": {},
   "outputs": [
    {
     "data": {
      "text/plain": [
       "3    b\n",
       "4    c\n",
       "5    d\n",
       "6    e\n",
       "7    f\n",
       "dtype: object"
      ]
     },
     "execution_count": 30,
     "metadata": {},
     "output_type": "execute_result"
    }
   ],
   "source": [
    "idata[1:6]"
   ]
  },
  {
   "cell_type": "code",
   "execution_count": 32,
   "id": "2054330d",
   "metadata": {},
   "outputs": [
    {
     "name": "stdout",
     "output_type": "stream",
     "text": [
      "1    a\n",
      "3    b\n",
      "4    c\n",
      "5    d\n",
      "6    e\n",
      "7    f\n",
      "dtype: object\n",
      "1    a\n",
      "3    b\n",
      "4    c\n",
      "dtype: object\n"
     ]
    }
   ],
   "source": [
    "print(idata)\n",
    "print(idata.loc[1:4])"
   ]
  },
  {
   "cell_type": "code",
   "execution_count": 34,
   "id": "744b9330",
   "metadata": {},
   "outputs": [
    {
     "name": "stdout",
     "output_type": "stream",
     "text": [
      "1    a\n",
      "3    b\n",
      "4    c\n",
      "5    d\n",
      "6    e\n",
      "7    f\n",
      "dtype: object\n",
      "1    a\n",
      "3    b\n",
      "4    c\n",
      "5    d\n",
      "6    e\n",
      "dtype: object\n",
      "3    b\n",
      "4    c\n",
      "5    d\n",
      "6    e\n",
      "dtype: object\n"
     ]
    }
   ],
   "source": [
    "print(idata)\n",
    "print(idata.loc[1:6])\n",
    "print(idata.loc[3:6])"
   ]
  },
  {
   "cell_type": "code",
   "execution_count": 35,
   "id": "4f5fd4c7",
   "metadata": {},
   "outputs": [
    {
     "data": {
      "text/plain": [
       "1    a\n",
       "3    b\n",
       "4    c\n",
       "5    d\n",
       "6    e\n",
       "dtype: object"
      ]
     },
     "execution_count": 35,
     "metadata": {},
     "output_type": "execute_result"
    }
   ],
   "source": [
    "idata.loc[1:6]"
   ]
  },
  {
   "cell_type": "code",
   "execution_count": 36,
   "id": "6c3bceb8",
   "metadata": {},
   "outputs": [
    {
     "name": "stdout",
     "output_type": "stream",
     "text": [
      "1    a\n",
      "3    b\n",
      "4    c\n",
      "5    d\n",
      "6    e\n",
      "7    f\n",
      "dtype: object\n",
      "b\n",
      "\n",
      "a\n",
      "\n",
      "a\n"
     ]
    }
   ],
   "source": [
    "print(idata)\n",
    "print(idata.iloc[1])   #implicit\n",
    "print()\n",
    "print(idata[1])        # this is explicit index which is idata.loc[1]   \n",
    "print()\n",
    "print(idata.loc[1])    #explicit"
   ]
  },
  {
   "cell_type": "code",
   "execution_count": 37,
   "id": "32a39f91",
   "metadata": {},
   "outputs": [
    {
     "data": {
      "text/plain": [
       "3    b\n",
       "4    c\n",
       "5    d\n",
       "dtype: object"
      ]
     },
     "execution_count": 37,
     "metadata": {},
     "output_type": "execute_result"
    }
   ],
   "source": [
    "idata.iloc[1:4]"
   ]
  },
  {
   "cell_type": "code",
   "execution_count": 42,
   "id": "36114867",
   "metadata": {},
   "outputs": [
    {
     "name": "stdout",
     "output_type": "stream",
     "text": [
      "1    a\n",
      "3    b\n",
      "4    c\n",
      "5    d\n",
      "6    e\n",
      "7    f\n",
      "dtype: object\n",
      "5    d\n",
      "6    e\n",
      "7    f\n",
      "dtype: object\n",
      "3    b\n",
      "4    c\n",
      "5    d\n",
      "6    e\n",
      "dtype: object\n",
      "5    d\n",
      "6    e\n",
      "7    f\n",
      "dtype: object\n"
     ]
    }
   ],
   "source": [
    "print(idata)\n",
    "print(idata[3:6])\n",
    "print(idata.loc[3:6])\n",
    "print(idata.iloc[3:6])"
   ]
  },
  {
   "cell_type": "code",
   "execution_count": 43,
   "id": "5eb6d9a5",
   "metadata": {},
   "outputs": [
    {
     "data": {
      "text/plain": [
       "3    b\n",
       "4    c\n",
       "5    d\n",
       "dtype: object"
      ]
     },
     "execution_count": 43,
     "metadata": {},
     "output_type": "execute_result"
    }
   ],
   "source": [
    "idata.iloc[1:4]"
   ]
  },
  {
   "cell_type": "code",
   "execution_count": null,
   "id": "5109ce49",
   "metadata": {},
   "outputs": [],
   "source": []
  },
  {
   "cell_type": "code",
   "execution_count": null,
   "id": "fdc16380",
   "metadata": {},
   "outputs": [],
   "source": []
  },
  {
   "cell_type": "code",
   "execution_count": null,
   "id": "af8f2804",
   "metadata": {},
   "outputs": [],
   "source": []
  }
 ],
 "metadata": {
  "kernelspec": {
   "display_name": "Python 3",
   "language": "python",
   "name": "python3"
  },
  "language_info": {
   "codemirror_mode": {
    "name": "ipython",
    "version": 3
   },
   "file_extension": ".py",
   "mimetype": "text/x-python",
   "name": "python",
   "nbconvert_exporter": "python",
   "pygments_lexer": "ipython3",
   "version": "3.8.8"
  }
 },
 "nbformat": 4,
 "nbformat_minor": 5
}
