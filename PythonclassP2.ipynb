{
  "nbformat": 4,
  "nbformat_minor": 0,
  "metadata": {
    "colab": {
      "name": "PythonclassP2.ipynb",
      "provenance": [],
      "collapsed_sections": [],
      "authorship_tag": "ABX9TyMOE130409PxsVG2exEb3Bn",
      "include_colab_link": true
    },
    "kernelspec": {
      "name": "python3",
      "display_name": "Python 3"
    },
    "language_info": {
      "name": "python"
    }
  },
  "cells": [
    {
      "cell_type": "markdown",
      "metadata": {
        "id": "view-in-github",
        "colab_type": "text"
      },
      "source": [
        "<a href=\"https://colab.research.google.com/github/rishabrath31/PythonClass/blob/main/PythonclassP2.ipynb\" target=\"_parent\"><img src=\"https://colab.research.google.com/assets/colab-badge.svg\" alt=\"Open In Colab\"/></a>"
      ]
    },
    {
      "cell_type": "code",
      "metadata": {
        "colab": {
          "base_uri": "https://localhost:8080/"
        },
        "id": "_XQGsAPre_8c",
        "outputId": "d471b636-0f38-4977-e3d9-86286bf8e234"
      },
      "source": [
        "num = int(input(\"Enter a number : \"))\n",
        "print(\"Hexadecimal Of \"+str(num)+\" : \"+ str(hex(num)))\n",
        "print(\"Octal Of \"+str(num)+\" : \"+ str(oct(num)))\n",
        "print(\"Square root Of \"+str(num)+\" : \"+ str(num**0.5))"
      ],
      "execution_count": 1,
      "outputs": [
        {
          "output_type": "stream",
          "name": "stdout",
          "text": [
            "Enter a number : 255\n",
            "Hexadecimal Of 255 : 0xff\n",
            "Octal Of 255 : 0o377\n",
            "Square root Of 255 : 15.968719422671311\n"
          ]
        }
      ]
    },
    {
      "cell_type": "code",
      "metadata": {
        "colab": {
          "base_uri": "https://localhost:8080/"
        },
        "id": "0Qb3zMa_fwDE",
        "outputId": "57a623eb-a9b8-4464-8fc0-4d486b7eddad"
      },
      "source": [
        "a = float(input(\"Enter any floating point number = \"))\n",
        "print((\"The iteger variant of \")+str(a)+(\"=\")+str(int(a)))\n"
      ],
      "execution_count": 3,
      "outputs": [
        {
          "output_type": "stream",
          "name": "stdout",
          "text": [
            "Enter any floating point number = 56.78\n",
            "The iteger variant of 56.78=56\n"
          ]
        }
      ]
    },
    {
      "cell_type": "code",
      "metadata": {
        "colab": {
          "base_uri": "https://localhost:8080/"
        },
        "id": "rWoDNpMBgX0r",
        "outputId": "98595ca4-9f6a-4949-c4ba-f7ff14855e15"
      },
      "source": [
        "a=int(input(\"Enter any integer : \"))\n",
        "print((\"the floating point variant of \")+str(a)+(\" = \")+str(float(a)))\n"
      ],
      "execution_count": 5,
      "outputs": [
        {
          "output_type": "stream",
          "name": "stdout",
          "text": [
            "Enter any integer : 123\n",
            "the floating point variant of 123 = 123.0\n"
          ]
        }
      ]
    },
    {
      "cell_type": "code",
      "metadata": {
        "colab": {
          "base_uri": "https://localhost:8080/"
        },
        "id": "hMSDqU2EhFmq",
        "outputId": "61c59a79-5cc8-45dd-dc99-e5d47a024d92"
      },
      "source": [
        "a = float(input(\"Enter the first side of the triangle : \"))\n",
        "b = float(input(\"Enter the second side of the triangle : \"))\n",
        "c = float(input(\"Enter the third side of the triangle : \"))\n",
        "print (a,b,c)\n",
        "S=(a+b+c)/2\n",
        "area = (S*(S-a)*(S-b)*(S-c))**0.5\n",
        "print(\"Area = \"+ str(area))\n"
      ],
      "execution_count": 6,
      "outputs": [
        {
          "output_type": "stream",
          "name": "stdout",
          "text": [
            "Enter the first side of the triangle : 12\n",
            "Enter the second side of the triangle : 18\n",
            "Enter the third side of the triangle : 10\n",
            "12.0 18.0 10.0\n",
            "Area = 56.568542494923804\n"
          ]
        }
      ]
    },
    {
      "cell_type": "code",
      "metadata": {
        "colab": {
          "base_uri": "https://localhost:8080/"
        },
        "id": "lmD6YJqQiC4R",
        "outputId": "59558667-625a-42ad-be47-1e860a49fe48"
      },
      "source": [
        "x = 10\n",
        "y = 20\n",
        "print(str(x)+\" < \"+str(y)+\" = \"+str(x<y))\n",
        "print(str(x)+\" == \"+str(y)+\" = \"+str(x==y))\n",
        "print(str(x)+\" != \"+str(y)+\" = \"+str(x!=y))\n",
        "print(str(x)+\" > \"+str(y)+\" = \"+str(x>y))\n",
        "print(str(x)+\" >= \"+str(y)+\" = \"+str(x>=y))\n",
        "print(str(x)+\" <= \"+str(y)+\" = \"+str(x<=y))"
      ],
      "execution_count": 7,
      "outputs": [
        {
          "output_type": "stream",
          "name": "stdout",
          "text": [
            "10 < 20 = True\n",
            "10 == 20 = False\n",
            "10 != 20 = True\n",
            "10 > 20 = False\n",
            "10 >= 20 = False\n",
            "10 <= 20 = True\n"
          ]
        }
      ]
    }
  ]
}