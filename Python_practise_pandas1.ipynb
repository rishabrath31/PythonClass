{
 "cells": [
  {
   "cell_type": "code",
   "execution_count": 1,
   "id": "ce23e09a",
   "metadata": {},
   "outputs": [],
   "source": [
    "import pandas as pd\n",
    "import numpy as np"
   ]
  },
  {
   "cell_type": "code",
   "execution_count": 2,
   "id": "93595735",
   "metadata": {},
   "outputs": [
    {
     "data": {
      "text/plain": [
       "array([1.        , 1.18367347, 1.36734694, 1.55102041, 1.73469388,\n",
       "       1.91836735, 2.10204082, 2.28571429, 2.46938776, 2.65306122])"
      ]
     },
     "execution_count": 2,
     "metadata": {},
     "output_type": "execute_result"
    }
   ],
   "source": [
    "sample_50 = np.linspace(1,10)\n",
    "sample_50[:10]"
   ]
  },
  {
   "cell_type": "code",
   "execution_count": 3,
   "id": "75fc111a",
   "metadata": {},
   "outputs": [
    {
     "name": "stdout",
     "output_type": "stream",
     "text": [
      "0    1.000000\n",
      "1    1.183673\n",
      "2    1.367347\n",
      "3    1.551020\n",
      "4    1.734694\n",
      "dtype: float64\n"
     ]
    }
   ],
   "source": [
    "series_1 = pd.Series(sample_50)\n",
    "print(series_1.head())"
   ]
  },
  {
   "cell_type": "code",
   "execution_count": 4,
   "id": "a29656f3",
   "metadata": {},
   "outputs": [
    {
     "data": {
      "text/plain": [
       "array([ 1.  ,  3.25,  5.5 ,  7.75, 10.  ])"
      ]
     },
     "execution_count": 4,
     "metadata": {},
     "output_type": "execute_result"
    }
   ],
   "source": [
    "samples = np.linspace(1,10,5)\n",
    "samples"
   ]
  },
  {
   "cell_type": "code",
   "execution_count": 5,
   "id": "073c27f7",
   "metadata": {},
   "outputs": [
    {
     "data": {
      "text/plain": [
       "0     1.00\n",
       "1     3.25\n",
       "2     5.50\n",
       "3     7.75\n",
       "4    10.00\n",
       "dtype: float64"
      ]
     },
     "execution_count": 5,
     "metadata": {},
     "output_type": "execute_result"
    }
   ],
   "source": [
    "series_1 = pd.Series(samples)\n",
    "series_1"
   ]
  },
  {
   "cell_type": "code",
   "execution_count": 6,
   "id": "ad53c137",
   "metadata": {},
   "outputs": [
    {
     "name": "stdout",
     "output_type": "stream",
     "text": [
      "0     1.00\n",
      "1     3.25\n",
      "2     5.50\n",
      "3     7.75\n",
      "4    10.00\n",
      "dtype: float64\n"
     ]
    }
   ],
   "source": [
    "print(series_1)"
   ]
  },
  {
   "cell_type": "code",
   "execution_count": 7,
   "id": "d7d09ab7",
   "metadata": {},
   "outputs": [
    {
     "data": {
      "text/plain": [
       "array([0.79391138, 0.84309076, 0.2578656 , 0.18636015, 0.200528  ,\n",
       "       0.09700865, 0.67196206, 0.90952826, 0.85440073, 0.96668395])"
      ]
     },
     "execution_count": 7,
     "metadata": {},
     "output_type": "execute_result"
    }
   ],
   "source": [
    "random = np.random.rand(10)\n",
    "random"
   ]
  },
  {
   "cell_type": "code",
   "execution_count": 8,
   "id": "8fadc597",
   "metadata": {},
   "outputs": [
    {
     "name": "stdout",
     "output_type": "stream",
     "text": [
      "0    0.793911\n",
      "1    0.843091\n",
      "2    0.257866\n",
      "3    0.186360\n",
      "4    0.200528\n",
      "5    0.097009\n",
      "6    0.671962\n",
      "7    0.909528\n",
      "8    0.854401\n",
      "9    0.966684\n",
      "dtype: float64\n"
     ]
    }
   ],
   "source": [
    "ser_2 = pd.Series(random)\n",
    "print(ser_2)"
   ]
  },
  {
   "cell_type": "code",
   "execution_count": null,
   "id": "a90b4ec5",
   "metadata": {},
   "outputs": [],
   "source": []
  },
  {
   "cell_type": "code",
   "execution_count": 9,
   "id": "a6f0529d",
   "metadata": {},
   "outputs": [],
   "source": [
    "#creating a series using list of elements "
   ]
  },
  {
   "cell_type": "code",
   "execution_count": 10,
   "id": "002599c2",
   "metadata": {},
   "outputs": [],
   "source": [
    "list_elements = [1, 2, 3, 4, 5, 6, 7, 8, 9, 10]\n",
    "#step 2 pass it the Series Constructor to create a series"
   ]
  },
  {
   "cell_type": "code",
   "execution_count": 11,
   "id": "4dfcd7db",
   "metadata": {},
   "outputs": [
    {
     "data": {
      "text/plain": [
       "0     1\n",
       "1     2\n",
       "2     3\n",
       "3     4\n",
       "4     5\n",
       "5     6\n",
       "6     7\n",
       "7     8\n",
       "8     9\n",
       "9    10\n",
       "dtype: int64"
      ]
     },
     "execution_count": 11,
     "metadata": {},
     "output_type": "execute_result"
    }
   ],
   "source": [
    "ser_3 = pd.Series(list_elements)\n",
    "ser_3"
   ]
  },
  {
   "cell_type": "code",
   "execution_count": null,
   "id": "29ca2ca0",
   "metadata": {},
   "outputs": [],
   "source": []
  },
  {
   "cell_type": "code",
   "execution_count": null,
   "id": "78f86e2a",
   "metadata": {},
   "outputs": [],
   "source": []
  },
  {
   "cell_type": "code",
   "execution_count": 12,
   "id": "cf1578be",
   "metadata": {},
   "outputs": [],
   "source": [
    "# for the data given below get the index and values after forming a series object\n",
    "# step1 import the pandas\n",
    "# step 2 create a pandas series using the data given\n",
    "# data = {\"India\":\"New Delhi\",\"Japan\":\"Tokoyo\",\"UK\",'London'}"
   ]
  },
  {
   "cell_type": "code",
   "execution_count": 13,
   "id": "b99ae37d",
   "metadata": {},
   "outputs": [],
   "source": [
    "import pandas as pd\n",
    "list_elements = [1,2,3,4,5,6,7,8,9,10]"
   ]
  },
  {
   "cell_type": "code",
   "execution_count": 14,
   "id": "f9e00c6e",
   "metadata": {},
   "outputs": [
    {
     "data": {
      "text/plain": [
       "0     1\n",
       "1     2\n",
       "2     3\n",
       "3     4\n",
       "4     5\n",
       "5     6\n",
       "6     7\n",
       "7     8\n",
       "8     9\n",
       "9    10\n",
       "dtype: int64"
      ]
     },
     "execution_count": 14,
     "metadata": {},
     "output_type": "execute_result"
    }
   ],
   "source": [
    "ser_3 = pd.Series(list_elements)\n",
    "ser_3"
   ]
  },
  {
   "cell_type": "code",
   "execution_count": 15,
   "id": "70256f89",
   "metadata": {},
   "outputs": [],
   "source": [
    "# For the data given below,get the index and values after forming a Series object"
   ]
  },
  {
   "cell_type": "code",
   "execution_count": 16,
   "id": "7a23aab1",
   "metadata": {},
   "outputs": [
    {
     "data": {
      "text/plain": [
       "India    New Delhi\n",
       "Japan        Tokyo\n",
       "UK          London\n",
       "dtype: object"
      ]
     },
     "execution_count": 16,
     "metadata": {},
     "output_type": "execute_result"
    }
   ],
   "source": [
    "Data = {\"India\":\"New Delhi\",\"Japan\":\"Tokyo\",\"UK\":\"London\"}\n",
    "ser_data = pd.Series(Data)\n",
    "ser_data"
   ]
  },
  {
   "cell_type": "code",
   "execution_count": 17,
   "id": "87fa7566",
   "metadata": {},
   "outputs": [
    {
     "data": {
      "text/plain": [
       "Index(['India', 'Japan', 'UK'], dtype='object')"
      ]
     },
     "execution_count": 17,
     "metadata": {},
     "output_type": "execute_result"
    }
   ],
   "source": [
    "ser_data.index"
   ]
  },
  {
   "cell_type": "code",
   "execution_count": 18,
   "id": "ff76c48e",
   "metadata": {},
   "outputs": [
    {
     "data": {
      "text/plain": [
       "array(['New Delhi', 'Tokyo', 'London'], dtype=object)"
      ]
     },
     "execution_count": 18,
     "metadata": {},
     "output_type": "execute_result"
    }
   ],
   "source": [
    "ser_data.values"
   ]
  },
  {
   "cell_type": "code",
   "execution_count": null,
   "id": "4500935e",
   "metadata": {},
   "outputs": [],
   "source": []
  },
  {
   "cell_type": "code",
   "execution_count": 19,
   "id": "9554f104",
   "metadata": {},
   "outputs": [],
   "source": [
    "# Create a Series using a range of 10 values and specify the index explicitly. Use capital alphabets to index explicitly"
   ]
  },
  {
   "cell_type": "code",
   "execution_count": 20,
   "id": "451d53b2",
   "metadata": {},
   "outputs": [
    {
     "data": {
      "text/plain": [
       "array([0, 1, 2, 3, 4, 5, 6, 7, 8, 9])"
      ]
     },
     "execution_count": 20,
     "metadata": {},
     "output_type": "execute_result"
    }
   ],
   "source": [
    "values = np.arange(10)\n",
    "values"
   ]
  },
  {
   "cell_type": "code",
   "execution_count": 21,
   "id": "d9304b2c",
   "metadata": {},
   "outputs": [],
   "source": [
    "index_values = ['A','B','C','D','E','F','G','H','I','J']"
   ]
  },
  {
   "cell_type": "code",
   "execution_count": 22,
   "id": "41844e2d",
   "metadata": {},
   "outputs": [
    {
     "data": {
      "text/plain": [
       "A    0\n",
       "B    1\n",
       "C    2\n",
       "D    3\n",
       "E    4\n",
       "F    5\n",
       "G    6\n",
       "H    7\n",
       "I    8\n",
       "J    9\n",
       "dtype: int32"
      ]
     },
     "execution_count": 22,
     "metadata": {},
     "output_type": "execute_result"
    }
   ],
   "source": [
    "ser_explicit_index = pd.Series(values, index=index_values)\n",
    "ser_explicit_index"
   ]
  },
  {
   "cell_type": "code",
   "execution_count": null,
   "id": "bf57e1f9",
   "metadata": {},
   "outputs": [],
   "source": []
  },
  {
   "cell_type": "code",
   "execution_count": 23,
   "id": "f61c4be7",
   "metadata": {},
   "outputs": [],
   "source": [
    "# Lets apply 'shape' and 'size' attributes for the series created in Exercise_4"
   ]
  },
  {
   "cell_type": "code",
   "execution_count": 24,
   "id": "03907165",
   "metadata": {},
   "outputs": [
    {
     "data": {
      "text/plain": [
       "(10,)"
      ]
     },
     "execution_count": 24,
     "metadata": {},
     "output_type": "execute_result"
    }
   ],
   "source": [
    "ser_explicit_index.shape"
   ]
  },
  {
   "cell_type": "code",
   "execution_count": 25,
   "id": "67752a08",
   "metadata": {},
   "outputs": [
    {
     "data": {
      "text/plain": [
       "10"
      ]
     },
     "execution_count": 25,
     "metadata": {},
     "output_type": "execute_result"
    }
   ],
   "source": [
    "ser_explicit_index.size"
   ]
  },
  {
   "cell_type": "code",
   "execution_count": null,
   "id": "644e9f88",
   "metadata": {},
   "outputs": [],
   "source": []
  },
  {
   "cell_type": "code",
   "execution_count": 26,
   "id": "c0590802",
   "metadata": {},
   "outputs": [],
   "source": [
    "# Slice the values of Series created for Exercise 4\n",
    "#- (a) Slice from 4th Index upto the end with step size 3\n",
    "#- (b) Slice the entire Series in reverse order\n",
    "#- (c) Slice the entire Series with step Size 2"
   ]
  },
  {
   "cell_type": "code",
   "execution_count": 27,
   "id": "393d78c3",
   "metadata": {},
   "outputs": [
    {
     "data": {
      "text/plain": [
       "E    4\n",
       "H    7\n",
       "dtype: int32"
      ]
     },
     "execution_count": 27,
     "metadata": {},
     "output_type": "execute_result"
    }
   ],
   "source": [
    "ser_explicit_index[4::3]"
   ]
  },
  {
   "cell_type": "code",
   "execution_count": 28,
   "id": "bea9b08e",
   "metadata": {},
   "outputs": [
    {
     "data": {
      "text/plain": [
       "J    9\n",
       "I    8\n",
       "H    7\n",
       "G    6\n",
       "F    5\n",
       "E    4\n",
       "D    3\n",
       "C    2\n",
       "B    1\n",
       "A    0\n",
       "dtype: int32"
      ]
     },
     "execution_count": 28,
     "metadata": {},
     "output_type": "execute_result"
    }
   ],
   "source": [
    "ser_explicit_index[::-1]"
   ]
  },
  {
   "cell_type": "code",
   "execution_count": 29,
   "id": "fbd548e9",
   "metadata": {},
   "outputs": [
    {
     "data": {
      "text/plain": [
       "A    0\n",
       "C    2\n",
       "E    4\n",
       "G    6\n",
       "I    8\n",
       "dtype: int32"
      ]
     },
     "execution_count": 29,
     "metadata": {},
     "output_type": "execute_result"
    }
   ],
   "source": [
    "ser_explicit_index[::2]"
   ]
  },
  {
   "cell_type": "code",
   "execution_count": 30,
   "id": "50625ced",
   "metadata": {},
   "outputs": [
    {
     "data": {
      "text/plain": [
       "A    0\n",
       "B    1\n",
       "C    2\n",
       "D    3\n",
       "E    4\n",
       "F    5\n",
       "G    6\n",
       "H    7\n",
       "I    8\n",
       "J    9\n",
       "dtype: int32"
      ]
     },
     "execution_count": 30,
     "metadata": {},
     "output_type": "execute_result"
    }
   ],
   "source": [
    "ser_explicit_index[::1]"
   ]
  },
  {
   "cell_type": "code",
   "execution_count": null,
   "id": "be4c610e",
   "metadata": {},
   "outputs": [],
   "source": []
  },
  {
   "cell_type": "code",
   "execution_count": 31,
   "id": "0fcaaab4",
   "metadata": {},
   "outputs": [],
   "source": [
    "# Convert the Series object values created for the exercise4 back into the list of values"
   ]
  },
  {
   "cell_type": "code",
   "execution_count": 32,
   "id": "a963179d",
   "metadata": {},
   "outputs": [
    {
     "name": "stdout",
     "output_type": "stream",
     "text": [
      "<class 'pandas.core.series.Series'>\n"
     ]
    }
   ],
   "source": [
    "print(type(ser_explicit_index))"
   ]
  },
  {
   "cell_type": "code",
   "execution_count": 33,
   "id": "e8a0884c",
   "metadata": {},
   "outputs": [
    {
     "name": "stdout",
     "output_type": "stream",
     "text": [
      "<class 'list'>\n"
     ]
    }
   ],
   "source": [
    "print(type(ser_explicit_index.tolist()))"
   ]
  },
  {
   "cell_type": "code",
   "execution_count": null,
   "id": "35719294",
   "metadata": {},
   "outputs": [],
   "source": []
  },
  {
   "cell_type": "code",
   "execution_count": 34,
   "id": "ef1f09cb",
   "metadata": {},
   "outputs": [],
   "source": [
    "# for the data given below, Construct a series and add data=[500,600,700]to the existing Series"
   ]
  },
  {
   "cell_type": "code",
   "execution_count": 35,
   "id": "b8d6b19b",
   "metadata": {},
   "outputs": [],
   "source": [
    "# Step 1: construct the Series using Data given\n",
    "# data = ['25','50','100','200','300','400']\n",
    "# data_to_add = [500,600,700]"
   ]
  },
  {
   "cell_type": "code",
   "execution_count": 36,
   "id": "a9d37db5",
   "metadata": {},
   "outputs": [],
   "source": [
    "data = ['25','50','100','200','300','400']\n",
    "data_to_add = [500,600,700]"
   ]
  },
  {
   "cell_type": "code",
   "execution_count": 37,
   "id": "28a6e026",
   "metadata": {},
   "outputs": [
    {
     "data": {
      "text/plain": [
       "0     25\n",
       "1     50\n",
       "2    100\n",
       "3    200\n",
       "4    300\n",
       "5    400\n",
       "dtype: object"
      ]
     },
     "execution_count": 37,
     "metadata": {},
     "output_type": "execute_result"
    }
   ],
   "source": [
    "series_before = pd.Series(data)\n",
    "series_before"
   ]
  },
  {
   "cell_type": "code",
   "execution_count": 38,
   "id": "c7d3b788",
   "metadata": {},
   "outputs": [],
   "source": [
    "# Step 2: Construct the another Series usng 'data_to_add'"
   ]
  },
  {
   "cell_type": "code",
   "execution_count": 39,
   "id": "7d346748",
   "metadata": {},
   "outputs": [
    {
     "data": {
      "text/plain": [
       "0    500\n",
       "1    600\n",
       "2    700\n",
       "dtype: int64"
      ]
     },
     "execution_count": 39,
     "metadata": {},
     "output_type": "execute_result"
    }
   ],
   "source": [
    "series_toAppend = pd.Series(data_to_add)\n",
    "series_toAppend"
   ]
  },
  {
   "cell_type": "code",
   "execution_count": 40,
   "id": "4f60e6b6",
   "metadata": {},
   "outputs": [
    {
     "data": {
      "text/plain": [
       "0     25\n",
       "1     50\n",
       "2    100\n",
       "3    200\n",
       "4    300\n",
       "5    400\n",
       "0    500\n",
       "1    600\n",
       "2    700\n",
       "dtype: object"
      ]
     },
     "execution_count": 40,
     "metadata": {},
     "output_type": "execute_result"
    }
   ],
   "source": [
    "series_after = series_before.append(series_toAppend)\n",
    "series_after"
   ]
  },
  {
   "cell_type": "code",
   "execution_count": 41,
   "id": "0b489fdc",
   "metadata": {},
   "outputs": [],
   "source": [
    "# Step 2: First Convert the created   Series with the string values to numeric using 'pd.to_numeric'method which\n",
    "# converts the given Series with string values to series with numeric values"
   ]
  },
  {
   "cell_type": "code",
   "execution_count": 42,
   "id": "68ab37d0",
   "metadata": {},
   "outputs": [],
   "source": [
    "# You can easily check out the docstring of 'to_numeric' method on pandas object by urself"
   ]
  },
  {
   "cell_type": "code",
   "execution_count": 43,
   "id": "ee73ce57",
   "metadata": {},
   "outputs": [
    {
     "data": {
      "text/plain": [
       "0     25\n",
       "1     50\n",
       "2    100\n",
       "3    200\n",
       "4    300\n",
       "5    400\n",
       "0    500\n",
       "1    600\n",
       "2    700\n",
       "dtype: int64"
      ]
     },
     "execution_count": 43,
     "metadata": {},
     "output_type": "execute_result"
    }
   ],
   "source": [
    "new_series = pd.to_numeric(series_after)\n",
    "new_series"
   ]
  },
  {
   "cell_type": "code",
   "execution_count": 44,
   "id": "ff14b28b",
   "metadata": {},
   "outputs": [],
   "source": [
    "# step 3: Apply the condition to the numeric series created just now using indexing method inside the[]"
   ]
  },
  {
   "cell_type": "code",
   "execution_count": 45,
   "id": "627a8f7c",
   "metadata": {},
   "outputs": [],
   "source": [
    "cond = (new_series >= 100)"
   ]
  },
  {
   "cell_type": "code",
   "execution_count": 46,
   "id": "260840f6",
   "metadata": {},
   "outputs": [
    {
     "data": {
      "text/plain": [
       "2    100\n",
       "3    200\n",
       "4    300\n",
       "5    400\n",
       "0    500\n",
       "1    600\n",
       "2    700\n",
       "dtype: int64"
      ]
     },
     "execution_count": 46,
     "metadata": {},
     "output_type": "execute_result"
    }
   ],
   "source": [
    "new_sorted = new_series[cond]\n",
    "new_sorted"
   ]
  },
  {
   "cell_type": "code",
   "execution_count": null,
   "id": "9116aef6",
   "metadata": {},
   "outputs": [],
   "source": []
  },
  {
   "cell_type": "code",
   "execution_count": null,
   "id": "72dff358",
   "metadata": {},
   "outputs": [],
   "source": []
  },
  {
   "cell_type": "code",
   "execution_count": 47,
   "id": "104467b0",
   "metadata": {},
   "outputs": [],
   "source": [
    "# For data given below construct a Pandas DataFrame Object using blabels data to set the index of the Dataframe.\n",
    "# After creating teh df display the summary of the basic information"
   ]
  },
  {
   "cell_type": "code",
   "execution_count": 49,
   "id": "aed523d9",
   "metadata": {},
   "outputs": [],
   "source": [
    "# Step 1: Create a DataFrame object using the Data provided\n",
    "\n",
    "exam_data = {'name':['Arun','Rama','Kantiana','James','Emily','Michael','Mathew','Laura','Kevin','Jones'],'score':[12,10,17,np.nan,9,30,15,np.nan,8,19],\n",
    "              'attempts': [1,3,2,3,2,3,1,1,2,1],\n",
    "                'qualify': ['yes','no','yes','no','no','yes','yes','no','no','yes']}\n",
    "\n",
    "labels = ['a','b','c','d','e','f','g','h','i','j']"
   ]
  },
  {
   "cell_type": "code",
   "execution_count": 50,
   "id": "3ca11051",
   "metadata": {},
   "outputs": [],
   "source": [
    "exam_data = {'name':['Arun','Rama','Kantiana','James','Emily','Michael','Mathew','Laura','Kevin','Jones'],'score':[12,10,17,np.nan,9,30,15,np.nan,8,19],\n",
    "              'attempts': [1,3,2,3,2,3,1,1,2,1],\n",
    "                'qualify': ['yes','no','yes','no','no','yes','yes','no','no','yes']}\n",
    "\n",
    "labels = ['a','b','c','d','e','f','g','h','i','j']"
   ]
  },
  {
   "cell_type": "code",
   "execution_count": 51,
   "id": "267459f6",
   "metadata": {},
   "outputs": [
    {
     "data": {
      "text/html": [
       "<div>\n",
       "<style scoped>\n",
       "    .dataframe tbody tr th:only-of-type {\n",
       "        vertical-align: middle;\n",
       "    }\n",
       "\n",
       "    .dataframe tbody tr th {\n",
       "        vertical-align: top;\n",
       "    }\n",
       "\n",
       "    .dataframe thead th {\n",
       "        text-align: right;\n",
       "    }\n",
       "</style>\n",
       "<table border=\"1\" class=\"dataframe\">\n",
       "  <thead>\n",
       "    <tr style=\"text-align: right;\">\n",
       "      <th></th>\n",
       "      <th>name</th>\n",
       "      <th>score</th>\n",
       "      <th>attempts</th>\n",
       "      <th>qualify</th>\n",
       "    </tr>\n",
       "  </thead>\n",
       "  <tbody>\n",
       "    <tr>\n",
       "      <th>a</th>\n",
       "      <td>Arun</td>\n",
       "      <td>12.0</td>\n",
       "      <td>1</td>\n",
       "      <td>yes</td>\n",
       "    </tr>\n",
       "    <tr>\n",
       "      <th>b</th>\n",
       "      <td>Rama</td>\n",
       "      <td>10.0</td>\n",
       "      <td>3</td>\n",
       "      <td>no</td>\n",
       "    </tr>\n",
       "    <tr>\n",
       "      <th>c</th>\n",
       "      <td>Kantiana</td>\n",
       "      <td>17.0</td>\n",
       "      <td>2</td>\n",
       "      <td>yes</td>\n",
       "    </tr>\n",
       "    <tr>\n",
       "      <th>d</th>\n",
       "      <td>James</td>\n",
       "      <td>NaN</td>\n",
       "      <td>3</td>\n",
       "      <td>no</td>\n",
       "    </tr>\n",
       "    <tr>\n",
       "      <th>e</th>\n",
       "      <td>Emily</td>\n",
       "      <td>9.0</td>\n",
       "      <td>2</td>\n",
       "      <td>no</td>\n",
       "    </tr>\n",
       "    <tr>\n",
       "      <th>f</th>\n",
       "      <td>Michael</td>\n",
       "      <td>30.0</td>\n",
       "      <td>3</td>\n",
       "      <td>yes</td>\n",
       "    </tr>\n",
       "    <tr>\n",
       "      <th>g</th>\n",
       "      <td>Mathew</td>\n",
       "      <td>15.0</td>\n",
       "      <td>1</td>\n",
       "      <td>yes</td>\n",
       "    </tr>\n",
       "    <tr>\n",
       "      <th>h</th>\n",
       "      <td>Laura</td>\n",
       "      <td>NaN</td>\n",
       "      <td>1</td>\n",
       "      <td>no</td>\n",
       "    </tr>\n",
       "    <tr>\n",
       "      <th>i</th>\n",
       "      <td>Kevin</td>\n",
       "      <td>8.0</td>\n",
       "      <td>2</td>\n",
       "      <td>no</td>\n",
       "    </tr>\n",
       "    <tr>\n",
       "      <th>j</th>\n",
       "      <td>Jones</td>\n",
       "      <td>19.0</td>\n",
       "      <td>1</td>\n",
       "      <td>yes</td>\n",
       "    </tr>\n",
       "  </tbody>\n",
       "</table>\n",
       "</div>"
      ],
      "text/plain": [
       "       name  score  attempts qualify\n",
       "a      Arun   12.0         1     yes\n",
       "b      Rama   10.0         3      no\n",
       "c  Kantiana   17.0         2     yes\n",
       "d     James    NaN         3      no\n",
       "e     Emily    9.0         2      no\n",
       "f   Michael   30.0         3     yes\n",
       "g    Mathew   15.0         1     yes\n",
       "h     Laura    NaN         1      no\n",
       "i     Kevin    8.0         2      no\n",
       "j     Jones   19.0         1     yes"
      ]
     },
     "execution_count": 51,
     "metadata": {},
     "output_type": "execute_result"
    }
   ],
   "source": [
    "exam_df = pd.DataFrame(exam_data,index=labels)\n",
    "exam_df"
   ]
  },
  {
   "cell_type": "code",
   "execution_count": 52,
   "id": "6d9ea0be",
   "metadata": {},
   "outputs": [],
   "source": [
    "#Step 2: Display the Basic information of the Data Frames using 'info' method"
   ]
  },
  {
   "cell_type": "code",
   "execution_count": 53,
   "id": "5fbe69e1",
   "metadata": {},
   "outputs": [
    {
     "name": "stdout",
     "output_type": "stream",
     "text": [
      "<class 'pandas.core.frame.DataFrame'>\n",
      "Index: 10 entries, a to j\n",
      "Data columns (total 4 columns):\n",
      " #   Column    Non-Null Count  Dtype  \n",
      "---  ------    --------------  -----  \n",
      " 0   name      10 non-null     object \n",
      " 1   score     8 non-null      float64\n",
      " 2   attempts  10 non-null     int64  \n",
      " 3   qualify   10 non-null     object \n",
      "dtypes: float64(1), int64(1), object(2)\n",
      "memory usage: 400.0+ bytes\n"
     ]
    }
   ],
   "source": [
    "exam_df.info()"
   ]
  },
  {
   "cell_type": "code",
   "execution_count": null,
   "id": "7380cd1a",
   "metadata": {},
   "outputs": [],
   "source": []
  },
  {
   "cell_type": "code",
   "execution_count": 54,
   "id": "300cd3a2",
   "metadata": {},
   "outputs": [],
   "source": [
    "# Find the names of the people who has scored greater than 12 in exercise 10\n",
    "# Separate the people with score and without any score for the Exercise 10"
   ]
  },
  {
   "cell_type": "code",
   "execution_count": 55,
   "id": "b1bc8c74",
   "metadata": {},
   "outputs": [],
   "source": [
    "# Step 1- Use the Loc method to select the names who scores > 12"
   ]
  },
  {
   "cell_type": "code",
   "execution_count": 56,
   "id": "249fad5b",
   "metadata": {},
   "outputs": [],
   "source": [
    "cond_score_g12 = (exam_df['score']>12)"
   ]
  },
  {
   "cell_type": "code",
   "execution_count": 57,
   "id": "052d3299",
   "metadata": {},
   "outputs": [
    {
     "data": {
      "text/html": [
       "<div>\n",
       "<style scoped>\n",
       "    .dataframe tbody tr th:only-of-type {\n",
       "        vertical-align: middle;\n",
       "    }\n",
       "\n",
       "    .dataframe tbody tr th {\n",
       "        vertical-align: top;\n",
       "    }\n",
       "\n",
       "    .dataframe thead th {\n",
       "        text-align: right;\n",
       "    }\n",
       "</style>\n",
       "<table border=\"1\" class=\"dataframe\">\n",
       "  <thead>\n",
       "    <tr style=\"text-align: right;\">\n",
       "      <th></th>\n",
       "      <th>name</th>\n",
       "      <th>score</th>\n",
       "      <th>attempts</th>\n",
       "      <th>qualify</th>\n",
       "    </tr>\n",
       "  </thead>\n",
       "  <tbody>\n",
       "    <tr>\n",
       "      <th>c</th>\n",
       "      <td>Kantiana</td>\n",
       "      <td>17.0</td>\n",
       "      <td>2</td>\n",
       "      <td>yes</td>\n",
       "    </tr>\n",
       "    <tr>\n",
       "      <th>f</th>\n",
       "      <td>Michael</td>\n",
       "      <td>30.0</td>\n",
       "      <td>3</td>\n",
       "      <td>yes</td>\n",
       "    </tr>\n",
       "    <tr>\n",
       "      <th>g</th>\n",
       "      <td>Mathew</td>\n",
       "      <td>15.0</td>\n",
       "      <td>1</td>\n",
       "      <td>yes</td>\n",
       "    </tr>\n",
       "    <tr>\n",
       "      <th>j</th>\n",
       "      <td>Jones</td>\n",
       "      <td>19.0</td>\n",
       "      <td>1</td>\n",
       "      <td>yes</td>\n",
       "    </tr>\n",
       "  </tbody>\n",
       "</table>\n",
       "</div>"
      ],
      "text/plain": [
       "       name  score  attempts qualify\n",
       "c  Kantiana   17.0         2     yes\n",
       "f   Michael   30.0         3     yes\n",
       "g    Mathew   15.0         1     yes\n",
       "j     Jones   19.0         1     yes"
      ]
     },
     "execution_count": 57,
     "metadata": {},
     "output_type": "execute_result"
    }
   ],
   "source": [
    "exam_df.loc[cond_score_g12]"
   ]
  },
  {
   "cell_type": "markdown",
   "id": "53ff7266",
   "metadata": {},
   "source": []
  },
  {
   "cell_type": "code",
   "execution_count": 60,
   "id": "36191854",
   "metadata": {},
   "outputs": [],
   "source": [
    "notnull = (exam_df['score'].notnull())"
   ]
  },
  {
   "cell_type": "code",
   "execution_count": 61,
   "id": "91a457ef",
   "metadata": {},
   "outputs": [
    {
     "data": {
      "text/html": [
       "<div>\n",
       "<style scoped>\n",
       "    .dataframe tbody tr th:only-of-type {\n",
       "        vertical-align: middle;\n",
       "    }\n",
       "\n",
       "    .dataframe tbody tr th {\n",
       "        vertical-align: top;\n",
       "    }\n",
       "\n",
       "    .dataframe thead th {\n",
       "        text-align: right;\n",
       "    }\n",
       "</style>\n",
       "<table border=\"1\" class=\"dataframe\">\n",
       "  <thead>\n",
       "    <tr style=\"text-align: right;\">\n",
       "      <th></th>\n",
       "      <th>name</th>\n",
       "      <th>score</th>\n",
       "      <th>attempts</th>\n",
       "      <th>qualify</th>\n",
       "    </tr>\n",
       "  </thead>\n",
       "  <tbody>\n",
       "    <tr>\n",
       "      <th>a</th>\n",
       "      <td>Arun</td>\n",
       "      <td>12.0</td>\n",
       "      <td>1</td>\n",
       "      <td>yes</td>\n",
       "    </tr>\n",
       "    <tr>\n",
       "      <th>b</th>\n",
       "      <td>Rama</td>\n",
       "      <td>10.0</td>\n",
       "      <td>3</td>\n",
       "      <td>no</td>\n",
       "    </tr>\n",
       "    <tr>\n",
       "      <th>c</th>\n",
       "      <td>Kantiana</td>\n",
       "      <td>17.0</td>\n",
       "      <td>2</td>\n",
       "      <td>yes</td>\n",
       "    </tr>\n",
       "    <tr>\n",
       "      <th>e</th>\n",
       "      <td>Emily</td>\n",
       "      <td>9.0</td>\n",
       "      <td>2</td>\n",
       "      <td>no</td>\n",
       "    </tr>\n",
       "    <tr>\n",
       "      <th>f</th>\n",
       "      <td>Michael</td>\n",
       "      <td>30.0</td>\n",
       "      <td>3</td>\n",
       "      <td>yes</td>\n",
       "    </tr>\n",
       "    <tr>\n",
       "      <th>g</th>\n",
       "      <td>Mathew</td>\n",
       "      <td>15.0</td>\n",
       "      <td>1</td>\n",
       "      <td>yes</td>\n",
       "    </tr>\n",
       "    <tr>\n",
       "      <th>i</th>\n",
       "      <td>Kevin</td>\n",
       "      <td>8.0</td>\n",
       "      <td>2</td>\n",
       "      <td>no</td>\n",
       "    </tr>\n",
       "    <tr>\n",
       "      <th>j</th>\n",
       "      <td>Jones</td>\n",
       "      <td>19.0</td>\n",
       "      <td>1</td>\n",
       "      <td>yes</td>\n",
       "    </tr>\n",
       "  </tbody>\n",
       "</table>\n",
       "</div>"
      ],
      "text/plain": [
       "       name  score  attempts qualify\n",
       "a      Arun   12.0         1     yes\n",
       "b      Rama   10.0         3      no\n",
       "c  Kantiana   17.0         2     yes\n",
       "e     Emily    9.0         2      no\n",
       "f   Michael   30.0         3     yes\n",
       "g    Mathew   15.0         1     yes\n",
       "i     Kevin    8.0         2      no\n",
       "j     Jones   19.0         1     yes"
      ]
     },
     "execution_count": 61,
     "metadata": {},
     "output_type": "execute_result"
    }
   ],
   "source": [
    "exam_df[notnull]"
   ]
  },
  {
   "cell_type": "code",
   "execution_count": 62,
   "id": "cca16d43",
   "metadata": {},
   "outputs": [],
   "source": [
    "isnull = (exam_df['score'].isnull())"
   ]
  },
  {
   "cell_type": "code",
   "execution_count": 63,
   "id": "39310202",
   "metadata": {},
   "outputs": [
    {
     "data": {
      "text/html": [
       "<div>\n",
       "<style scoped>\n",
       "    .dataframe tbody tr th:only-of-type {\n",
       "        vertical-align: middle;\n",
       "    }\n",
       "\n",
       "    .dataframe tbody tr th {\n",
       "        vertical-align: top;\n",
       "    }\n",
       "\n",
       "    .dataframe thead th {\n",
       "        text-align: right;\n",
       "    }\n",
       "</style>\n",
       "<table border=\"1\" class=\"dataframe\">\n",
       "  <thead>\n",
       "    <tr style=\"text-align: right;\">\n",
       "      <th></th>\n",
       "      <th>name</th>\n",
       "      <th>score</th>\n",
       "      <th>attempts</th>\n",
       "      <th>qualify</th>\n",
       "    </tr>\n",
       "  </thead>\n",
       "  <tbody>\n",
       "    <tr>\n",
       "      <th>d</th>\n",
       "      <td>James</td>\n",
       "      <td>NaN</td>\n",
       "      <td>3</td>\n",
       "      <td>no</td>\n",
       "    </tr>\n",
       "    <tr>\n",
       "      <th>h</th>\n",
       "      <td>Laura</td>\n",
       "      <td>NaN</td>\n",
       "      <td>1</td>\n",
       "      <td>no</td>\n",
       "    </tr>\n",
       "  </tbody>\n",
       "</table>\n",
       "</div>"
      ],
      "text/plain": [
       "    name  score  attempts qualify\n",
       "d  James    NaN         3      no\n",
       "h  Laura    NaN         1      no"
      ]
     },
     "execution_count": 63,
     "metadata": {},
     "output_type": "execute_result"
    }
   ],
   "source": [
    "exam_df[isnull]"
   ]
  },
  {
   "cell_type": "code",
   "execution_count": 64,
   "id": "19646106",
   "metadata": {},
   "outputs": [],
   "source": [
    "#Find the participants who qualify the test and who doot qualify the test in exercise 10"
   ]
  },
  {
   "cell_type": "code",
   "execution_count": 65,
   "id": "45f0b87c",
   "metadata": {},
   "outputs": [
    {
     "data": {
      "text/html": [
       "<div>\n",
       "<style scoped>\n",
       "    .dataframe tbody tr th:only-of-type {\n",
       "        vertical-align: middle;\n",
       "    }\n",
       "\n",
       "    .dataframe tbody tr th {\n",
       "        vertical-align: top;\n",
       "    }\n",
       "\n",
       "    .dataframe thead th {\n",
       "        text-align: right;\n",
       "    }\n",
       "</style>\n",
       "<table border=\"1\" class=\"dataframe\">\n",
       "  <thead>\n",
       "    <tr style=\"text-align: right;\">\n",
       "      <th></th>\n",
       "      <th>name</th>\n",
       "      <th>score</th>\n",
       "      <th>attempts</th>\n",
       "      <th>qualify</th>\n",
       "    </tr>\n",
       "  </thead>\n",
       "  <tbody>\n",
       "    <tr>\n",
       "      <th>a</th>\n",
       "      <td>Arun</td>\n",
       "      <td>12.0</td>\n",
       "      <td>1</td>\n",
       "      <td>yes</td>\n",
       "    </tr>\n",
       "    <tr>\n",
       "      <th>b</th>\n",
       "      <td>Rama</td>\n",
       "      <td>10.0</td>\n",
       "      <td>3</td>\n",
       "      <td>no</td>\n",
       "    </tr>\n",
       "    <tr>\n",
       "      <th>c</th>\n",
       "      <td>Kantiana</td>\n",
       "      <td>17.0</td>\n",
       "      <td>2</td>\n",
       "      <td>yes</td>\n",
       "    </tr>\n",
       "    <tr>\n",
       "      <th>d</th>\n",
       "      <td>James</td>\n",
       "      <td>NaN</td>\n",
       "      <td>3</td>\n",
       "      <td>no</td>\n",
       "    </tr>\n",
       "    <tr>\n",
       "      <th>e</th>\n",
       "      <td>Emily</td>\n",
       "      <td>9.0</td>\n",
       "      <td>2</td>\n",
       "      <td>no</td>\n",
       "    </tr>\n",
       "    <tr>\n",
       "      <th>f</th>\n",
       "      <td>Michael</td>\n",
       "      <td>30.0</td>\n",
       "      <td>3</td>\n",
       "      <td>yes</td>\n",
       "    </tr>\n",
       "    <tr>\n",
       "      <th>g</th>\n",
       "      <td>Mathew</td>\n",
       "      <td>15.0</td>\n",
       "      <td>1</td>\n",
       "      <td>yes</td>\n",
       "    </tr>\n",
       "    <tr>\n",
       "      <th>h</th>\n",
       "      <td>Laura</td>\n",
       "      <td>NaN</td>\n",
       "      <td>1</td>\n",
       "      <td>no</td>\n",
       "    </tr>\n",
       "    <tr>\n",
       "      <th>i</th>\n",
       "      <td>Kevin</td>\n",
       "      <td>8.0</td>\n",
       "      <td>2</td>\n",
       "      <td>no</td>\n",
       "    </tr>\n",
       "    <tr>\n",
       "      <th>j</th>\n",
       "      <td>Jones</td>\n",
       "      <td>19.0</td>\n",
       "      <td>1</td>\n",
       "      <td>yes</td>\n",
       "    </tr>\n",
       "  </tbody>\n",
       "</table>\n",
       "</div>"
      ],
      "text/plain": [
       "       name  score  attempts qualify\n",
       "a      Arun   12.0         1     yes\n",
       "b      Rama   10.0         3      no\n",
       "c  Kantiana   17.0         2     yes\n",
       "d     James    NaN         3      no\n",
       "e     Emily    9.0         2      no\n",
       "f   Michael   30.0         3     yes\n",
       "g    Mathew   15.0         1     yes\n",
       "h     Laura    NaN         1      no\n",
       "i     Kevin    8.0         2      no\n",
       "j     Jones   19.0         1     yes"
      ]
     },
     "execution_count": 65,
     "metadata": {},
     "output_type": "execute_result"
    }
   ],
   "source": [
    "exam_df"
   ]
  },
  {
   "cell_type": "code",
   "execution_count": 66,
   "id": "df98d7e1",
   "metadata": {},
   "outputs": [],
   "source": [
    "cond_yes = (exam_df['qualify']=='yes')"
   ]
  },
  {
   "cell_type": "code",
   "execution_count": 67,
   "id": "61e6b678",
   "metadata": {},
   "outputs": [
    {
     "data": {
      "text/html": [
       "<div>\n",
       "<style scoped>\n",
       "    .dataframe tbody tr th:only-of-type {\n",
       "        vertical-align: middle;\n",
       "    }\n",
       "\n",
       "    .dataframe tbody tr th {\n",
       "        vertical-align: top;\n",
       "    }\n",
       "\n",
       "    .dataframe thead th {\n",
       "        text-align: right;\n",
       "    }\n",
       "</style>\n",
       "<table border=\"1\" class=\"dataframe\">\n",
       "  <thead>\n",
       "    <tr style=\"text-align: right;\">\n",
       "      <th></th>\n",
       "      <th>name</th>\n",
       "      <th>score</th>\n",
       "      <th>attempts</th>\n",
       "      <th>qualify</th>\n",
       "    </tr>\n",
       "  </thead>\n",
       "  <tbody>\n",
       "    <tr>\n",
       "      <th>a</th>\n",
       "      <td>Arun</td>\n",
       "      <td>12.0</td>\n",
       "      <td>1</td>\n",
       "      <td>yes</td>\n",
       "    </tr>\n",
       "    <tr>\n",
       "      <th>c</th>\n",
       "      <td>Kantiana</td>\n",
       "      <td>17.0</td>\n",
       "      <td>2</td>\n",
       "      <td>yes</td>\n",
       "    </tr>\n",
       "    <tr>\n",
       "      <th>f</th>\n",
       "      <td>Michael</td>\n",
       "      <td>30.0</td>\n",
       "      <td>3</td>\n",
       "      <td>yes</td>\n",
       "    </tr>\n",
       "    <tr>\n",
       "      <th>g</th>\n",
       "      <td>Mathew</td>\n",
       "      <td>15.0</td>\n",
       "      <td>1</td>\n",
       "      <td>yes</td>\n",
       "    </tr>\n",
       "    <tr>\n",
       "      <th>j</th>\n",
       "      <td>Jones</td>\n",
       "      <td>19.0</td>\n",
       "      <td>1</td>\n",
       "      <td>yes</td>\n",
       "    </tr>\n",
       "  </tbody>\n",
       "</table>\n",
       "</div>"
      ],
      "text/plain": [
       "       name  score  attempts qualify\n",
       "a      Arun   12.0         1     yes\n",
       "c  Kantiana   17.0         2     yes\n",
       "f   Michael   30.0         3     yes\n",
       "g    Mathew   15.0         1     yes\n",
       "j     Jones   19.0         1     yes"
      ]
     },
     "execution_count": 67,
     "metadata": {},
     "output_type": "execute_result"
    }
   ],
   "source": [
    "exam_df.loc[cond_yes]"
   ]
  },
  {
   "cell_type": "code",
   "execution_count": 68,
   "id": "81a4dbd9",
   "metadata": {},
   "outputs": [
    {
     "data": {
      "text/html": [
       "<div>\n",
       "<style scoped>\n",
       "    .dataframe tbody tr th:only-of-type {\n",
       "        vertical-align: middle;\n",
       "    }\n",
       "\n",
       "    .dataframe tbody tr th {\n",
       "        vertical-align: top;\n",
       "    }\n",
       "\n",
       "    .dataframe thead th {\n",
       "        text-align: right;\n",
       "    }\n",
       "</style>\n",
       "<table border=\"1\" class=\"dataframe\">\n",
       "  <thead>\n",
       "    <tr style=\"text-align: right;\">\n",
       "      <th></th>\n",
       "      <th>name</th>\n",
       "      <th>score</th>\n",
       "      <th>attempts</th>\n",
       "      <th>qualify</th>\n",
       "    </tr>\n",
       "  </thead>\n",
       "  <tbody>\n",
       "    <tr>\n",
       "      <th>b</th>\n",
       "      <td>Rama</td>\n",
       "      <td>10.0</td>\n",
       "      <td>3</td>\n",
       "      <td>no</td>\n",
       "    </tr>\n",
       "    <tr>\n",
       "      <th>d</th>\n",
       "      <td>James</td>\n",
       "      <td>NaN</td>\n",
       "      <td>3</td>\n",
       "      <td>no</td>\n",
       "    </tr>\n",
       "    <tr>\n",
       "      <th>e</th>\n",
       "      <td>Emily</td>\n",
       "      <td>9.0</td>\n",
       "      <td>2</td>\n",
       "      <td>no</td>\n",
       "    </tr>\n",
       "    <tr>\n",
       "      <th>h</th>\n",
       "      <td>Laura</td>\n",
       "      <td>NaN</td>\n",
       "      <td>1</td>\n",
       "      <td>no</td>\n",
       "    </tr>\n",
       "    <tr>\n",
       "      <th>i</th>\n",
       "      <td>Kevin</td>\n",
       "      <td>8.0</td>\n",
       "      <td>2</td>\n",
       "      <td>no</td>\n",
       "    </tr>\n",
       "  </tbody>\n",
       "</table>\n",
       "</div>"
      ],
      "text/plain": [
       "    name  score  attempts qualify\n",
       "b   Rama   10.0         3      no\n",
       "d  James    NaN         3      no\n",
       "e  Emily    9.0         2      no\n",
       "h  Laura    NaN         1      no\n",
       "i  Kevin    8.0         2      no"
      ]
     },
     "execution_count": 68,
     "metadata": {},
     "output_type": "execute_result"
    }
   ],
   "source": [
    "cond_no = (exam_df['qualify']=='no')\n",
    "exam_df.loc[cond_no]"
   ]
  },
  {
   "cell_type": "code",
   "execution_count": 69,
   "id": "756474fd",
   "metadata": {},
   "outputs": [],
   "source": [
    "# For the  Exercise 10 separate the columns withpout score and form a separate DataFrame\n",
    "#Step1- Filter the dataframe by selecting multiplecolumns without score column.\n",
    "#Step2- Pass a list of column names to the indexing method within the []"
   ]
  },
  {
   "cell_type": "code",
   "execution_count": 74,
   "id": "f6c3cd68",
   "metadata": {},
   "outputs": [],
   "source": [
    "list_columns = ['name','attempts','qualify']"
   ]
  },
  {
   "cell_type": "code",
   "execution_count": 76,
   "id": "d1f52930",
   "metadata": {},
   "outputs": [
    {
     "data": {
      "text/html": [
       "<div>\n",
       "<style scoped>\n",
       "    .dataframe tbody tr th:only-of-type {\n",
       "        vertical-align: middle;\n",
       "    }\n",
       "\n",
       "    .dataframe tbody tr th {\n",
       "        vertical-align: top;\n",
       "    }\n",
       "\n",
       "    .dataframe thead th {\n",
       "        text-align: right;\n",
       "    }\n",
       "</style>\n",
       "<table border=\"1\" class=\"dataframe\">\n",
       "  <thead>\n",
       "    <tr style=\"text-align: right;\">\n",
       "      <th></th>\n",
       "      <th>name</th>\n",
       "      <th>attempts</th>\n",
       "      <th>qualify</th>\n",
       "    </tr>\n",
       "  </thead>\n",
       "  <tbody>\n",
       "    <tr>\n",
       "      <th>a</th>\n",
       "      <td>Arun</td>\n",
       "      <td>1</td>\n",
       "      <td>yes</td>\n",
       "    </tr>\n",
       "    <tr>\n",
       "      <th>b</th>\n",
       "      <td>Rama</td>\n",
       "      <td>3</td>\n",
       "      <td>no</td>\n",
       "    </tr>\n",
       "    <tr>\n",
       "      <th>c</th>\n",
       "      <td>Kantiana</td>\n",
       "      <td>2</td>\n",
       "      <td>yes</td>\n",
       "    </tr>\n",
       "    <tr>\n",
       "      <th>d</th>\n",
       "      <td>James</td>\n",
       "      <td>3</td>\n",
       "      <td>no</td>\n",
       "    </tr>\n",
       "    <tr>\n",
       "      <th>e</th>\n",
       "      <td>Emily</td>\n",
       "      <td>2</td>\n",
       "      <td>no</td>\n",
       "    </tr>\n",
       "    <tr>\n",
       "      <th>f</th>\n",
       "      <td>Michael</td>\n",
       "      <td>3</td>\n",
       "      <td>yes</td>\n",
       "    </tr>\n",
       "    <tr>\n",
       "      <th>g</th>\n",
       "      <td>Mathew</td>\n",
       "      <td>1</td>\n",
       "      <td>yes</td>\n",
       "    </tr>\n",
       "    <tr>\n",
       "      <th>h</th>\n",
       "      <td>Laura</td>\n",
       "      <td>1</td>\n",
       "      <td>no</td>\n",
       "    </tr>\n",
       "    <tr>\n",
       "      <th>i</th>\n",
       "      <td>Kevin</td>\n",
       "      <td>2</td>\n",
       "      <td>no</td>\n",
       "    </tr>\n",
       "    <tr>\n",
       "      <th>j</th>\n",
       "      <td>Jones</td>\n",
       "      <td>1</td>\n",
       "      <td>yes</td>\n",
       "    </tr>\n",
       "  </tbody>\n",
       "</table>\n",
       "</div>"
      ],
      "text/plain": [
       "       name  attempts qualify\n",
       "a      Arun         1     yes\n",
       "b      Rama         3      no\n",
       "c  Kantiana         2     yes\n",
       "d     James         3      no\n",
       "e     Emily         2      no\n",
       "f   Michael         3     yes\n",
       "g    Mathew         1     yes\n",
       "h     Laura         1      no\n",
       "i     Kevin         2      no\n",
       "j     Jones         1     yes"
      ]
     },
     "execution_count": 76,
     "metadata": {},
     "output_type": "execute_result"
    }
   ],
   "source": [
    "new_df = exam_df[list_columns]\n",
    "new_df"
   ]
  },
  {
   "cell_type": "code",
   "execution_count": 77,
   "id": "5e14d0d2",
   "metadata": {},
   "outputs": [],
   "source": [
    "#For the Exercise 10 find the number of participants with first attempt"
   ]
  },
  {
   "cell_type": "code",
   "execution_count": 78,
   "id": "a153c590",
   "metadata": {},
   "outputs": [
    {
     "data": {
      "text/plain": [
       "a    1\n",
       "b    3\n",
       "c    2\n",
       "d    3\n",
       "e    2\n",
       "f    3\n",
       "g    1\n",
       "h    1\n",
       "i    2\n",
       "j    1\n",
       "Name: attempts, dtype: int64"
      ]
     },
     "execution_count": 78,
     "metadata": {},
     "output_type": "execute_result"
    }
   ],
   "source": [
    "attempt_first = exam_df['attempts']\n",
    "attempt_first"
   ]
  },
  {
   "cell_type": "code",
   "execution_count": null,
   "id": "37603791",
   "metadata": {},
   "outputs": [],
   "source": [
    "# Step 2 use volue_counts to method to count the number of participants who did first Attempt\n"
   ]
  },
  {
   "cell_type": "code",
   "execution_count": 79,
   "id": "cd9872b7",
   "metadata": {},
   "outputs": [
    {
     "data": {
      "text/plain": [
       "1    4\n",
       "2    3\n",
       "3    3\n",
       "Name: attempts, dtype: int64"
      ]
     },
     "execution_count": 79,
     "metadata": {},
     "output_type": "execute_result"
    }
   ],
   "source": [
    "attempt_first.value_counts()"
   ]
  },
  {
   "cell_type": "code",
   "execution_count": 80,
   "id": "038cd47d",
   "metadata": {},
   "outputs": [],
   "source": [
    "# we got 4 participants who did first attempt"
   ]
  },
  {
   "cell_type": "code",
   "execution_count": 81,
   "id": "70d8974c",
   "metadata": {},
   "outputs": [],
   "source": [
    "# Alternatively we can also use indexing with loc and len method to count the number of participants who attempted first"
   ]
  },
  {
   "cell_type": "code",
   "execution_count": 82,
   "id": "9af4df38",
   "metadata": {},
   "outputs": [
    {
     "data": {
      "text/plain": [
       "4"
      ]
     },
     "execution_count": 82,
     "metadata": {},
     "output_type": "execute_result"
    }
   ],
   "source": [
    "len(exam_df.loc[exam_df['attempts']==1])"
   ]
  },
  {
   "cell_type": "code",
   "execution_count": 83,
   "id": "9fdf7456",
   "metadata": {},
   "outputs": [],
   "source": [
    "# For the Exercise 10 separate the column score and find the top score"
   ]
  },
  {
   "cell_type": "code",
   "execution_count": 84,
   "id": "d22041cb",
   "metadata": {},
   "outputs": [
    {
     "data": {
      "text/plain": [
       "a    12.0\n",
       "b    10.0\n",
       "c    17.0\n",
       "d     NaN\n",
       "e     9.0\n",
       "f    30.0\n",
       "g    15.0\n",
       "h     NaN\n",
       "i     8.0\n",
       "j    19.0\n",
       "Name: score, dtype: float64"
      ]
     },
     "execution_count": 84,
     "metadata": {},
     "output_type": "execute_result"
    }
   ],
   "source": [
    "score = exam_df['score']\n",
    "score"
   ]
  },
  {
   "cell_type": "code",
   "execution_count": 87,
   "id": "dce1bbba",
   "metadata": {},
   "outputs": [
    {
     "data": {
      "text/plain": [
       "30.0"
      ]
     },
     "execution_count": 87,
     "metadata": {},
     "output_type": "execute_result"
    }
   ],
   "source": [
    "score.max()"
   ]
  },
  {
   "cell_type": "code",
   "execution_count": 88,
   "id": "120db46a",
   "metadata": {},
   "outputs": [
    {
     "data": {
      "text/plain": [
       "15.0"
      ]
     },
     "execution_count": 88,
     "metadata": {},
     "output_type": "execute_result"
    }
   ],
   "source": [
    "score.mean()"
   ]
  },
  {
   "cell_type": "code",
   "execution_count": null,
   "id": "881fb69e",
   "metadata": {},
   "outputs": [],
   "source": []
  }
 ],
 "metadata": {
  "kernelspec": {
   "display_name": "Python 3",
   "language": "python",
   "name": "python3"
  },
  "language_info": {
   "codemirror_mode": {
    "name": "ipython",
    "version": 3
   },
   "file_extension": ".py",
   "mimetype": "text/x-python",
   "name": "python",
   "nbconvert_exporter": "python",
   "pygments_lexer": "ipython3",
   "version": "3.8.8"
  }
 },
 "nbformat": 4,
 "nbformat_minor": 5
}
