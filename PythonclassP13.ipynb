{
  "nbformat": 4,
  "nbformat_minor": 0,
  "metadata": {
    "colab": {
      "name": "PythonclassP13.ipynb",
      "provenance": [],
      "collapsed_sections": [],
      "authorship_tag": "ABX9TyOCkgQ/adufdgulnGd05XaE",
      "include_colab_link": true
    },
    "kernelspec": {
      "name": "python3",
      "display_name": "Python 3"
    },
    "language_info": {
      "name": "python"
    }
  },
  "cells": [
    {
      "cell_type": "markdown",
      "metadata": {
        "id": "view-in-github",
        "colab_type": "text"
      },
      "source": [
        "<a href=\"https://colab.research.google.com/github/rishabrath31/PythonClass/blob/main/PythonclassP13.ipynb\" target=\"_parent\"><img src=\"https://colab.research.google.com/assets/colab-badge.svg\" alt=\"Open In Colab\"/></a>"
      ]
    },
    {
      "cell_type": "code",
      "metadata": {
        "colab": {
          "base_uri": "https://localhost:8080/"
        },
        "id": "RIbO_XO91Fk4",
        "outputId": "8ef92d3f-683c-4276-9b43-a89daae270aa"
      },
      "source": [
        "num = int(input(\"Enter the number to print the table : \"))\n",
        "for i in range (1,11,1):\n",
        "  print(\"Table of \", num, \"is \",num ,\" * \",i,\" = \",num*i)"
      ],
      "execution_count": 2,
      "outputs": [
        {
          "output_type": "stream",
          "name": "stdout",
          "text": [
            "Enter the number to print the table : 5\n",
            "Table of  5 is  5  *  1  =  5\n",
            "Table of  5 is  5  *  2  =  10\n",
            "Table of  5 is  5  *  3  =  15\n",
            "Table of  5 is  5  *  4  =  20\n",
            "Table of  5 is  5  *  5  =  25\n",
            "Table of  5 is  5  *  6  =  30\n",
            "Table of  5 is  5  *  7  =  35\n",
            "Table of  5 is  5  *  8  =  40\n",
            "Table of  5 is  5  *  9  =  45\n",
            "Table of  5 is  5  *  10  =  50\n"
          ]
        }
      ]
    },
    {
      "cell_type": "code",
      "metadata": {
        "colab": {
          "base_uri": "https://localhost:8080/"
        },
        "id": "tV_ozJtk1yFI",
        "outputId": "e5fb2de8-aa65-4e92-ea8a-a6cb5df31fec"
      },
      "source": [
        "num = int(input(\"Enter a number: \"))  \n",
        "sum = 0  \n",
        "while(num > 0):  \n",
        "       sum += num  \n",
        "       num -= 1  \n",
        "       print(\"The sum is\",sum)  "
      ],
      "execution_count": 6,
      "outputs": [
        {
          "output_type": "stream",
          "name": "stdout",
          "text": [
            "Enter a number: 5\n",
            "The sum is 5\n",
            "The sum is 9\n",
            "The sum is 12\n",
            "The sum is 14\n",
            "The sum is 15\n"
          ]
        }
      ]
    },
    {
      "cell_type": "code",
      "metadata": {
        "colab": {
          "base_uri": "https://localhost:8080/"
        },
        "id": "XW4OAu_-3DIQ",
        "outputId": "709a4816-9b8f-4462-94d5-908934498b6f"
      },
      "source": [
        "n = int(input(\"Enter a Number \"))\n",
        "for num in range (1,n+1,1):\n",
        "  print(num)"
      ],
      "execution_count": 7,
      "outputs": [
        {
          "output_type": "stream",
          "name": "stdout",
          "text": [
            "Enter a Number 5\n",
            "1\n",
            "2\n",
            "3\n",
            "4\n",
            "5\n"
          ]
        }
      ]
    },
    {
      "cell_type": "code",
      "metadata": {
        "colab": {
          "base_uri": "https://localhost:8080/"
        },
        "id": "ng2z7Bu_3vVo",
        "outputId": "4eba9cb4-1078-48b1-d223-400eae9d700f"
      },
      "source": [
        "num = int(input(\"Enter a number: \"))    \n",
        "factorial = 1    \n",
        "for i in range(1,num + 1):    \n",
        "   factorial = factorial*i    \n",
        "print(\"The factorial of\",num,\"is\",factorial)    "
      ],
      "execution_count": 10,
      "outputs": [
        {
          "output_type": "stream",
          "name": "stdout",
          "text": [
            "Enter a number: 4\n",
            "The factorial of 4 is 24\n"
          ]
        }
      ]
    }
  ]
}