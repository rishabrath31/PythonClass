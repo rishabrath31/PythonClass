{
  "nbformat": 4,
  "nbformat_minor": 0,
  "metadata": {
    "colab": {
      "name": "PythonclassP10.ipynb",
      "provenance": [],
      "authorship_tag": "ABX9TyMxt7VAhsxZQG2N5GPtm5N/",
      "include_colab_link": true
    },
    "kernelspec": {
      "name": "python3",
      "display_name": "Python 3"
    },
    "language_info": {
      "name": "python"
    }
  },
  "cells": [
    {
      "cell_type": "markdown",
      "metadata": {
        "id": "view-in-github",
        "colab_type": "text"
      },
      "source": [
        "<a href=\"https://colab.research.google.com/github/rishabrath31/PythonClass/blob/main/PythonclassP10.ipynb\" target=\"_parent\"><img src=\"https://colab.research.google.com/assets/colab-badge.svg\" alt=\"Open In Colab\"/></a>"
      ]
    },
    {
      "cell_type": "code",
      "metadata": {
        "colab": {
          "base_uri": "https://localhost:8080/"
        },
        "id": "G_JCKM46iQaX",
        "outputId": "e0c96e06-d176-4996-8a42-a347a8725029"
      },
      "source": [
        "var = \"Good\"\n",
        "def show():\n",
        "  global var1\n",
        "  var1 = \"Morning\"\n",
        "  print(\"In Function var is - \",var)\n",
        "show()\n",
        "print(\"Outside function,var1 is - \", var1)\n",
        "def variable():\n",
        " print(\"Var is -\",var)"
      ],
      "execution_count": 3,
      "outputs": [
        {
          "output_type": "stream",
          "name": "stdout",
          "text": [
            "In Function var is -  Good\n",
            "Outside function,var1 is -  Morning\n"
          ]
        }
      ]
    },
    {
      "cell_type": "code",
      "metadata": {
        "colab": {
          "base_uri": "https://localhost:8080/"
        },
        "id": "rLiTZ1uMjXh7",
        "outputId": "ebbf524e-bfcf-4731-baf1-33853e29fbdd"
      },
      "source": [
        "var = \"good\"\n",
        "def show():\n",
        "  var = \"Morning\"\n",
        "  print(\"In function var is - \",var)\n",
        "show()\n",
        "print(\"Outsid eFunction, var is - \",var)"
      ],
      "execution_count": 4,
      "outputs": [
        {
          "output_type": "stream",
          "name": "stdout",
          "text": [
            "In function var is -  Morning\n",
            "Outsid eFunction, var is -  good\n"
          ]
        }
      ]
    },
    {
      "cell_type": "code",
      "metadata": {
        "id": "pRtx6JMHj1L7"
      },
      "source": [
        "def outer_func():\n",
        "  var = 10\n",
        "  def inner_func():\n",
        "    var = 20\n",
        "    print(\"Inner Variable =\",var)\n",
        "    inner_func()\n",
        "    print(\"Outer Variable = \",var)\n",
        "    \n",
        "outer_func()"
      ],
      "execution_count": 6,
      "outputs": []
    },
    {
      "cell_type": "code",
      "metadata": {
        "colab": {
          "base_uri": "https://localhost:8080/"
        },
        "id": "C1phWL7ukTDx",
        "outputId": "bb7db3b3-981e-4a52-f4ed-ea39cd8a2918"
      },
      "source": [
        "def func():\n",
        "  print(str)\n",
        "str = \"Hello World !!!\"\n",
        "func()"
      ],
      "execution_count": 7,
      "outputs": [
        {
          "output_type": "stream",
          "name": "stdout",
          "text": [
            "Hello World !!!\n"
          ]
        }
      ]
    },
    {
      "cell_type": "code",
      "metadata": {
        "id": "URk5wHwfk7lC"
      },
      "source": [
        ""
      ],
      "execution_count": null,
      "outputs": []
    },
    {
      "cell_type": "code",
      "metadata": {
        "id": "TWiTX699k7jR"
      },
      "source": [
        ""
      ],
      "execution_count": null,
      "outputs": []
    },
    {
      "cell_type": "code",
      "metadata": {
        "colab": {
          "base_uri": "https://localhost:8080/"
        },
        "id": "8-hOL0RbkiOY",
        "outputId": "49bc3792-6b04-412d-b659-bdbb90cfad16"
      },
      "source": [
        "def cube(x):\n",
        "  return(x*x*x)\n",
        "num = 10\n",
        "result = cube(num)\n",
        "print(\"Cube of \",num,\" = \",result)"
      ],
      "execution_count": 8,
      "outputs": [
        {
          "output_type": "stream",
          "name": "stdout",
          "text": [
            "Cube of  10  =  1000\n"
          ]
        }
      ]
    }
  ]
}