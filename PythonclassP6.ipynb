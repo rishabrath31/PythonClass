{
  "nbformat": 4,
  "nbformat_minor": 0,
  "metadata": {
    "colab": {
      "name": "PythonclassP6.ipynb",
      "provenance": [],
      "collapsed_sections": [],
      "authorship_tag": "ABX9TyO1PTpMVU1Y3R/OOL8t8Gvz",
      "include_colab_link": true
    },
    "kernelspec": {
      "name": "python3",
      "display_name": "Python 3"
    },
    "language_info": {
      "name": "python"
    }
  },
  "cells": [
    {
      "cell_type": "markdown",
      "metadata": {
        "id": "view-in-github",
        "colab_type": "text"
      },
      "source": [
        "<a href=\"https://colab.research.google.com/github/rishabrath31/PythonClass/blob/main/PythonclassP6.ipynb\" target=\"_parent\"><img src=\"https://colab.research.google.com/assets/colab-badge.svg\" alt=\"Open In Colab\"/></a>"
      ]
    },
    {
      "cell_type": "code",
      "metadata": {
        "colab": {
          "base_uri": "https://localhost:8080/"
        },
        "id": "bzGYuiw4lEX2",
        "outputId": "294112f7-efce-4fa4-e060-70b1743aebde"
      },
      "source": [
        "n = int(input(\"Enter the value of n : \"))\n",
        "avg = 0.0\n",
        "s = 0\n",
        "for i in range(1,n+1):\n",
        "  s = s + i\n",
        "avg = s/i\n",
        "print(\"The sum of first\",n,\"natural number is\",s)\n",
        "print(\"The average of first\",n,\"natural number is \",avg)"
      ],
      "execution_count": 1,
      "outputs": [
        {
          "output_type": "stream",
          "name": "stdout",
          "text": [
            "Enter the value of n : 10\n",
            "The sum of first 10 natural number is 55\n",
            "The average of first 10 natural number is  5.5\n"
          ]
        }
      ]
    },
    {
      "cell_type": "code",
      "metadata": {
        "colab": {
          "base_uri": "https://localhost:8080/"
        },
        "id": "MQ7Sp375l56Q",
        "outputId": "ad0b4f7a-96df-444d-fd1d-2fd5eed61cd6"
      },
      "source": [
        "n = int(input(\"Enter the value of n : \"))\n",
        "print(\"Multiplication Table of\",n)\n",
        "print(\"----------------------------\")\n",
        "for i in range(1,11):\n",
        "  print(n,\" X \",i,\" = \",n*i)"
      ],
      "execution_count": 2,
      "outputs": [
        {
          "output_type": "stream",
          "name": "stdout",
          "text": [
            "Enter the value of n : 5\n",
            "Multiplication Table of 5\n",
            "----------------------------\n",
            "5  X  1  =  5\n",
            "5  X  2  =  10\n",
            "5  X  3  =  15\n",
            "5  X  4  =  20\n",
            "5  X  5  =  25\n",
            "5  X  6  =  30\n",
            "5  X  7  =  35\n",
            "5  X  8  =  40\n",
            "5  X  9  =  45\n",
            "5  X  10  =  50\n"
          ]
        }
      ]
    },
    {
      "cell_type": "code",
      "metadata": {
        "colab": {
          "base_uri": "https://localhost:8080/"
        },
        "id": "gmfwDPvPmYeX",
        "outputId": "5fbbe14f-30d4-4107-baed-b91fda58d3ed"
      },
      "source": [
        "m = int(input(\"Enter the value of m : \"))\n",
        "n = int(input(\"Enter the value of n : \"))\n",
        "for i in range(m,n+1):\n",
        "  if(i%2==0):\n",
        "   print(i,\"is EVEN\")\n",
        "  else:\n",
        "    print(i,\"is ODD\")"
      ],
      "execution_count": 5,
      "outputs": [
        {
          "output_type": "stream",
          "name": "stdout",
          "text": [
            "Enter the value of m : 5\n",
            "Enter the value of n : 12\n",
            "5 is ODD\n",
            "6 is EVEN\n",
            "7 is ODD\n",
            "8 is EVEN\n",
            "9 is ODD\n",
            "10 is EVEN\n",
            "11 is ODD\n",
            "12 is EVEN\n"
          ]
        }
      ]
    },
    {
      "cell_type": "code",
      "metadata": {
        "colab": {
          "base_uri": "https://localhost:8080/"
        },
        "id": "F_JKN6YRm4HA",
        "outputId": "37a1e4a5-e2ac-4e59-c82b-0ba99f4de203"
      },
      "source": [
        "num = int(input(\"Enter The number : \"))\n",
        "if(num==0):\n",
        "  fact = 1\n",
        "fact = 1\n",
        "for i in range(1,num+1):\n",
        "  fact = fact * i\n",
        "print(\"Factorial of\",num,\"is\",fact)"
      ],
      "execution_count": 6,
      "outputs": [
        {
          "output_type": "stream",
          "name": "stdout",
          "text": [
            "Enter The number : 6\n",
            "Factorial of 6 is 720\n"
          ]
        }
      ]
    },
    {
      "cell_type": "code",
      "metadata": {
        "colab": {
          "base_uri": "https://localhost:8080/"
        },
        "id": "g-g5KxHQnkQ1",
        "outputId": "f5f9f862-7daf-4810-ffd3-8314cb50c3aa"
      },
      "source": [
        "num = int(input(\"Enter The number\"))\n",
        "isComposite = 0\n",
        "for i in range(2,num):\n",
        "  if(num%2==0):\n",
        "    isComposite = 1\n",
        "    break\n",
        "if(isComposite ==1):\n",
        "  print(\"Number is Composite\")\n",
        "else:\n",
        "  print(\"Number is Prime\")    "
      ],
      "execution_count": 8,
      "outputs": [
        {
          "output_type": "stream",
          "name": "stdout",
          "text": [
            "Enter The number5\n",
            "Number is Prime\n"
          ]
        }
      ]
    },
    {
      "cell_type": "code",
      "metadata": {
        "colab": {
          "base_uri": "https://localhost:8080/"
        },
        "id": "GGSCCkuYoNDU",
        "outputId": "fed3b378-e77c-457c-95ea-647ab9687c1c"
      },
      "source": [
        "total_prime = 0\n",
        "total_composite = 0\n",
        "\n",
        "while(1):\n",
        "  num = int(input(\"Enter no :\"))\n",
        "  if(num == -1):\n",
        "    break\n",
        "  is_composite = 0\n",
        "  for i in range(2,num):\n",
        "    if(num%i == 0):\n",
        "      is_composite =1\n",
        "      break\n",
        "  if(is_composite):\n",
        "    total_composite+=1\n",
        "  else:\n",
        "      total_prime+=1\n",
        "print(\"total composite : \",total_composite)\n",
        "print(\"total prime : \",total_prime)"
      ],
      "execution_count": 11,
      "outputs": [
        {
          "output_type": "stream",
          "name": "stdout",
          "text": [
            "Enter no :4\n",
            "Enter no :5\n",
            "Enter no :6\n",
            "Enter no :7\n",
            "Enter no :8\n",
            "Enter no :9\n",
            "Enter no :10\n",
            "Enter no :11\n",
            "Enter no :35\n",
            "Enter no :76\n",
            "Enter no :-1\n",
            "total composite :  7\n",
            "total prime :  3\n"
          ]
        }
      ]
    },
    {
      "cell_type": "code",
      "metadata": {
        "colab": {
          "base_uri": "https://localhost:8080/"
        },
        "id": "r2D2YopPpfVs",
        "outputId": "eedc5b78-2393-47c0-f0fa-ef20709cebb4"
      },
      "source": [
        "num = int(input(\"Enter the Number : \"))\n",
        "n = int(input(\"Till which power to Calculate?\"))\n",
        "result =1\n",
        "for i in range(n):\n",
        "  result = result*num\n",
        "print(num,\"raised to the power \",n,\"is\",result)"
      ],
      "execution_count": 12,
      "outputs": [
        {
          "output_type": "stream",
          "name": "stdout",
          "text": [
            "Enter the Number : 2\n",
            "Till which power to Calculate?5\n",
            "2 raised to the power  5 is 32\n"
          ]
        }
      ]
    },
    {
      "cell_type": "code",
      "metadata": {
        "colab": {
          "base_uri": "https://localhost:8080/"
        },
        "id": "7dVrfYiEqFKL",
        "outputId": "f85e1197-5a2c-49fe-d876-0d27f3bd18aa"
      },
      "source": [
        "print(\"Leap Years from 1900-2101 are :\")\n",
        "for i in range(1900,2101):\n",
        "  if(i%4==0):\n",
        "    print(i,end=' ')"
      ],
      "execution_count": 13,
      "outputs": [
        {
          "output_type": "stream",
          "name": "stdout",
          "text": [
            "Leap Years from 1900-2101 are :\n",
            "1900 1904 1908 1912 1916 1920 1924 1928 1932 1936 1940 1944 1948 1952 1956 1960 1964 1968 1972 1976 1980 1984 1988 1992 1996 2000 2004 2008 2012 2016 2020 2024 2028 2032 2036 2040 2044 2048 2052 2056 2060 2064 2068 2072 2076 2080 2084 2088 2092 2096 2100 "
          ]
        }
      ]
    },
    {
      "cell_type": "code",
      "metadata": {
        "colab": {
          "base_uri": "https://localhost:8080/"
        },
        "id": "U819Vp4PqdXF",
        "outputId": "95546e07-895c-49a2-93c7-3d1bc54093f4"
      },
      "source": [
        "n = int(input(\"Enter the Number: \"))\n",
        "s = 0.0\n",
        "for i in range(1,n+1):\n",
        "  a = 1.0/i\n",
        "  s = s+a\n",
        "print(\"The Sum of 1,1/2...1/\"+str(n)+\" is \"+str(s))"
      ],
      "execution_count": 14,
      "outputs": [
        {
          "output_type": "stream",
          "name": "stdout",
          "text": [
            "Enter the Number: 5\n",
            "The Sum of 1,1/2...1/5 is 2.283333333333333\n"
          ]
        }
      ]
    },
    {
      "cell_type": "code",
      "metadata": {
        "colab": {
          "base_uri": "https://localhost:8080/"
        },
        "id": "oOJC7BFWrGFU",
        "outputId": "47c3a951-d310-4825-e98b-9ef3ff2aebae"
      },
      "source": [
        "n = int(input(\"Enter the number :\"))\n",
        "s =0.0\n",
        "for i in range(1,n+1):\n",
        "  a = 1.0/(i**2)\n",
        "  s = s+a\n",
        "print(\"The sum of Series is\",s)"
      ],
      "execution_count": 15,
      "outputs": [
        {
          "output_type": "stream",
          "name": "stdout",
          "text": [
            "Enter the number :5\n",
            "The sum of Series is 1.4636111111111112\n"
          ]
        }
      ]
    }
  ]
}