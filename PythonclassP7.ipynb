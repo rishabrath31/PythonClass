{
  "nbformat": 4,
  "nbformat_minor": 0,
  "metadata": {
    "colab": {
      "name": "PythonclassP7.ipynb",
      "provenance": [],
      "collapsed_sections": [],
      "authorship_tag": "ABX9TyMSDhl+t4XCA2EIrL1PaQdc",
      "include_colab_link": true
    },
    "kernelspec": {
      "name": "python3",
      "display_name": "Python 3"
    },
    "language_info": {
      "name": "python"
    }
  },
  "cells": [
    {
      "cell_type": "markdown",
      "metadata": {
        "id": "view-in-github",
        "colab_type": "text"
      },
      "source": [
        "<a href=\"https://colab.research.google.com/github/rishabrath31/PythonClass/blob/main/PythonclassP7.ipynb\" target=\"_parent\"><img src=\"https://colab.research.google.com/assets/colab-badge.svg\" alt=\"Open In Colab\"/></a>"
      ]
    },
    {
      "cell_type": "code",
      "metadata": {
        "colab": {
          "base_uri": "https://localhost:8080/"
        },
        "id": "I_YgZak1JLYT",
        "outputId": "1b4f730f-aa8b-42b7-8411-7c1d038fd85b"
      },
      "source": [
        "num = 10\n",
        "def show():\n",
        "  var = 20\n",
        "  print(\"In the function var is - \", num)\n",
        "show()"
      ],
      "execution_count": 1,
      "outputs": [
        {
          "output_type": "stream",
          "name": "stdout",
          "text": [
            "In the function var is -  10\n"
          ]
        }
      ]
    },
    {
      "cell_type": "code",
      "metadata": {
        "colab": {
          "base_uri": "https://localhost:8080/"
        },
        "id": "AmXbvH0jJMbf",
        "outputId": "6420f4cd-af35-46d1-d29c-44e392348553"
      },
      "source": [
        "def f():\n",
        "  s = \"Hello World\"\n",
        "  print(s)\n",
        "s = \"Welcome to python Programming\"\n",
        "f()"
      ],
      "execution_count": 2,
      "outputs": [
        {
          "output_type": "stream",
          "name": "stdout",
          "text": [
            "Hello World\n"
          ]
        }
      ]
    },
    {
      "cell_type": "code",
      "metadata": {
        "id": "-dSAHLDPKJ5U"
      },
      "source": [
        "def f():\n",
        "  global var\n",
        "  print(varr)\n",
        "  var = 100\n",
        "  print(var)\n",
        "  f()"
      ],
      "execution_count": 7,
      "outputs": []
    },
    {
      "cell_type": "code",
      "metadata": {
        "colab": {
          "base_uri": "https://localhost:8080/"
        },
        "id": "Tf1O3tNuKxx-",
        "outputId": "d34f94f8-5493-4156-f190-961e06d193b2"
      },
      "source": [
        "def sqr(x):\n",
        "  print(x*x)\n",
        "sqr(10)"
      ],
      "execution_count": 8,
      "outputs": [
        {
          "output_type": "stream",
          "name": "stdout",
          "text": [
            "100\n"
          ]
        }
      ]
    },
    {
      "cell_type": "code",
      "metadata": {
        "colab": {
          "base_uri": "https://localhost:8080/"
        },
        "id": "XMrA9B5TKdC-",
        "outputId": "57ced419-2f37-4cad-f7b3-e59139bf4581"
      },
      "source": [
        "def display (str):\n",
        "  print(str+\"!\")\n",
        "display(\"HEllo World\")"
      ],
      "execution_count": 6,
      "outputs": [
        {
          "output_type": "stream",
          "name": "stdout",
          "text": [
            "HEllo World!\n"
          ]
        }
      ]
    },
    {
      "cell_type": "code",
      "metadata": {
        "colab": {
          "base_uri": "https://localhost:8080/"
        },
        "id": "AonAsAjCK7rG",
        "outputId": "fec2e8b8-bbec-4db9-db27-a94e70bd56c0"
      },
      "source": [
        "def mul_twice(x,y):\n",
        "  print(x*y)\n",
        "  print(x*y)\n",
        "mul_twice(5,10)"
      ],
      "execution_count": 9,
      "outputs": [
        {
          "output_type": "stream",
          "name": "stdout",
          "text": [
            "50\n",
            "50\n"
          ]
        }
      ]
    },
    {
      "cell_type": "code",
      "metadata": {
        "colab": {
          "base_uri": "https://localhost:8080/"
        },
        "id": "jI028DyvLLts",
        "outputId": "ca2f15da-8094-42cb-d692-a82fa0d96dcf"
      },
      "source": [
        "def func():\n",
        "  global x\n",
        "  print(\"x = \",x)\n",
        "  x = 100\n",
        "  print('x is now = ',x)\n",
        "x=10\n",
        "func()\n",
        "print('x = ',x)"
      ],
      "execution_count": 11,
      "outputs": [
        {
          "output_type": "stream",
          "name": "stdout",
          "text": [
            "x =  10\n",
            "x is now =  100\n",
            "x =  100\n"
          ]
        }
      ]
    },
    {
      "cell_type": "code",
      "metadata": {
        "colab": {
          "base_uri": "https://localhost:8080/"
        },
        "id": "ZiHIX1GBLs4f",
        "outputId": "8c8f67ac-0306-4c46-a98c-8dc5ee230166"
      },
      "source": [
        "def func1():\n",
        " var = 3\n",
        " func2(var)\n",
        "def func2(var):\n",
        "  print(var)\n",
        "func1()"
      ],
      "execution_count": 15,
      "outputs": [
        {
          "output_type": "stream",
          "name": "stdout",
          "text": [
            "3\n"
          ]
        }
      ]
    }
  ]
}